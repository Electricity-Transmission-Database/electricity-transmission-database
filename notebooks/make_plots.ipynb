{
 "cells": [
  {
   "cell_type": "code",
   "execution_count": 1,
   "metadata": {},
   "outputs": [],
   "source": [
    "import plotly\n",
    "\n",
    "from src.dataviz import DatabasePlots"
   ]
  },
  {
   "cell_type": "code",
   "execution_count": 2,
   "metadata": {},
   "outputs": [],
   "source": [
    "db_plots = DatabasePlots()"
   ]
  },
  {
   "cell_type": "code",
   "execution_count": 3,
   "metadata": {},
   "outputs": [
    {
     "data": {
      "text/html": [
       "<div>\n",
       "<style scoped>\n",
       "    .dataframe tbody tr th:only-of-type {\n",
       "        vertical-align: middle;\n",
       "    }\n",
       "\n",
       "    .dataframe tbody tr th {\n",
       "        vertical-align: top;\n",
       "    }\n",
       "\n",
       "    .dataframe thead th {\n",
       "        text-align: right;\n",
       "    }\n",
       "</style>\n",
       "<table border=\"1\" class=\"dataframe\">\n",
       "  <thead>\n",
       "    <tr style=\"text-align: right;\">\n",
       "      <th></th>\n",
       "      <th>node</th>\n",
       "      <th>node_verbose</th>\n",
       "      <th>country</th>\n",
       "      <th>region</th>\n",
       "      <th>subregion</th>\n",
       "      <th>geometry</th>\n",
       "    </tr>\n",
       "  </thead>\n",
       "  <tbody>\n",
       "    <tr>\n",
       "      <th>0</th>\n",
       "      <td>AFG-XX</td>\n",
       "      <td>Afghanistan</td>\n",
       "      <td>Afghanistan</td>\n",
       "      <td>Asia</td>\n",
       "      <td>Southern Asia</td>\n",
       "      <td>POINT (66.03059 33.82888)</td>\n",
       "    </tr>\n",
       "    <tr>\n",
       "      <th>1</th>\n",
       "      <td>AGO-XX</td>\n",
       "      <td>Angola</td>\n",
       "      <td>Angola</td>\n",
       "      <td>Africa</td>\n",
       "      <td>Sub-Saharan Africa</td>\n",
       "      <td>POINT (17.57616 -12.33727)</td>\n",
       "    </tr>\n",
       "    <tr>\n",
       "      <th>2</th>\n",
       "      <td>ALB-XX</td>\n",
       "      <td>Albania</td>\n",
       "      <td>Albania</td>\n",
       "      <td>Europe</td>\n",
       "      <td>Southern Europe</td>\n",
       "      <td>POINT (20.06196 41.14084)</td>\n",
       "    </tr>\n",
       "    <tr>\n",
       "      <th>3</th>\n",
       "      <td>ARE-XX</td>\n",
       "      <td>United Arab Emirates</td>\n",
       "      <td>United Arab Emirates</td>\n",
       "      <td>Asia</td>\n",
       "      <td>Western Asia</td>\n",
       "      <td>POINT (54.33630 23.90734)</td>\n",
       "    </tr>\n",
       "    <tr>\n",
       "      <th>4</th>\n",
       "      <td>ARG-XX</td>\n",
       "      <td>Argentina</td>\n",
       "      <td>Argentina</td>\n",
       "      <td>Americas</td>\n",
       "      <td>Latin America and the Caribbean</td>\n",
       "      <td>POINT (-65.14102 -35.18534)</td>\n",
       "    </tr>\n",
       "  </tbody>\n",
       "</table>\n",
       "</div>"
      ],
      "text/plain": [
       "     node          node_verbose               country    region  \\\n",
       "0  AFG-XX           Afghanistan           Afghanistan      Asia   \n",
       "1  AGO-XX                Angola                Angola    Africa   \n",
       "2  ALB-XX               Albania               Albania    Europe   \n",
       "3  ARE-XX  United Arab Emirates  United Arab Emirates      Asia   \n",
       "4  ARG-XX             Argentina             Argentina  Americas   \n",
       "\n",
       "                         subregion                     geometry  \n",
       "0                    Southern Asia    POINT (66.03059 33.82888)  \n",
       "1               Sub-Saharan Africa   POINT (17.57616 -12.33727)  \n",
       "2                  Southern Europe    POINT (20.06196 41.14084)  \n",
       "3                     Western Asia    POINT (54.33630 23.90734)  \n",
       "4  Latin America and the Caribbean  POINT (-65.14102 -35.18534)  "
      ]
     },
     "execution_count": 3,
     "metadata": {},
     "output_type": "execute_result"
    }
   ],
   "source": [
    "db_plots.df.CENTRE_POINTS.head(5)"
   ]
  },
  {
   "cell_type": "code",
   "execution_count": 4,
   "metadata": {},
   "outputs": [
    {
     "data": {
      "text/html": [
       "<div>\n",
       "<style scoped>\n",
       "    .dataframe tbody tr th:only-of-type {\n",
       "        vertical-align: middle;\n",
       "    }\n",
       "\n",
       "    .dataframe tbody tr th {\n",
       "        vertical-align: top;\n",
       "    }\n",
       "\n",
       "    .dataframe thead th {\n",
       "        text-align: right;\n",
       "    }\n",
       "</style>\n",
       "<table border=\"1\" class=\"dataframe\">\n",
       "  <thead>\n",
       "    <tr style=\"text-align: right;\">\n",
       "      <th></th>\n",
       "      <th>from</th>\n",
       "      <th>to</th>\n",
       "      <th>existing capacity + (mw)</th>\n",
       "      <th>existing capacity - (mw)</th>\n",
       "      <th>planned capacity + (mw)</th>\n",
       "      <th>planned capacity - (mw)</th>\n",
       "      <th>year planned</th>\n",
       "      <th>assumptions/applied methods</th>\n",
       "      <th>other notes</th>\n",
       "      <th>source existing (2023)</th>\n",
       "      <th>source planned</th>\n",
       "    </tr>\n",
       "  </thead>\n",
       "  <tbody>\n",
       "    <tr>\n",
       "      <th>0</th>\n",
       "      <td>AFG-XX</td>\n",
       "      <td>CHN-XI</td>\n",
       "      <td>0.0</td>\n",
       "      <td>0.0</td>\n",
       "      <td>0.0</td>\n",
       "      <td>0.0</td>\n",
       "      <td>NaN</td>\n",
       "      <td>NaN</td>\n",
       "      <td>Afghanistan had joined China's Belt and Road i...</td>\n",
       "      <td>https://iea.blob.core.windows.net/assets/b066e...</td>\n",
       "      <td>https://www.reuters.com/world/asia-pacific/tal...</td>\n",
       "    </tr>\n",
       "    <tr>\n",
       "      <th>1</th>\n",
       "      <td>AFG-XX</td>\n",
       "      <td>IRN-XX</td>\n",
       "      <td>175.0</td>\n",
       "      <td>-175.0</td>\n",
       "      <td>325.0</td>\n",
       "      <td>-325.0</td>\n",
       "      <td>NaN</td>\n",
       "      <td>It's reported that as of 2022 trade potential ...</td>\n",
       "      <td>NaN</td>\n",
       "      <td>https://www.tehrantimes.com/news/468852/Iran-e...</td>\n",
       "      <td>https://www.tehrantimes.com/news/468852/Iran-e...</td>\n",
       "    </tr>\n",
       "    <tr>\n",
       "      <th>2</th>\n",
       "      <td>AFG-XX</td>\n",
       "      <td>PAK-XX</td>\n",
       "      <td>0.0</td>\n",
       "      <td>0.0</td>\n",
       "      <td>0.0</td>\n",
       "      <td>0.0</td>\n",
       "      <td>NaN</td>\n",
       "      <td>Following the specifics of the CASA-1000 proje...</td>\n",
       "      <td>NaN</td>\n",
       "      <td>https://iea.blob.core.windows.net/assets/b066e...</td>\n",
       "      <td>https://iea.blob.core.windows.net/assets/b066e...</td>\n",
       "    </tr>\n",
       "    <tr>\n",
       "      <th>3</th>\n",
       "      <td>AFG-XX</td>\n",
       "      <td>TKM-XX</td>\n",
       "      <td>0.0</td>\n",
       "      <td>-400.0</td>\n",
       "      <td>1000.0</td>\n",
       "      <td>-1000.0</td>\n",
       "      <td>NaN</td>\n",
       "      <td>NaN</td>\n",
       "      <td>Currently a trade agreement of 400 MW for unil...</td>\n",
       "      <td>https://iea.blob.core.windows.net/assets/b066e...</td>\n",
       "      <td>https://pajhwok.com/2023/01/29/power-supply-pr...</td>\n",
       "    </tr>\n",
       "    <tr>\n",
       "      <th>4</th>\n",
       "      <td>ARE-XX</td>\n",
       "      <td>IND-WE</td>\n",
       "      <td>0.0</td>\n",
       "      <td>0.0</td>\n",
       "      <td>0.0</td>\n",
       "      <td>0.0</td>\n",
       "      <td>NaN</td>\n",
       "      <td>NaN</td>\n",
       "      <td>No capacity as of yet, but a subsea transmissi...</td>\n",
       "      <td>https://openinframap.org/#4.16/20.3/63.43</td>\n",
       "      <td>https://www.siasat.com/india-planning-power-gr...</td>\n",
       "    </tr>\n",
       "  </tbody>\n",
       "</table>\n",
       "</div>"
      ],
      "text/plain": [
       "     from      to  existing capacity + (mw)  existing capacity - (mw)  \\\n",
       "0  AFG-XX  CHN-XI                       0.0                       0.0   \n",
       "1  AFG-XX  IRN-XX                     175.0                    -175.0   \n",
       "2  AFG-XX  PAK-XX                       0.0                       0.0   \n",
       "3  AFG-XX  TKM-XX                       0.0                    -400.0   \n",
       "4  ARE-XX  IND-WE                       0.0                       0.0   \n",
       "\n",
       "   planned capacity + (mw)  planned capacity - (mw)  year planned  \\\n",
       "0                      0.0                      0.0           NaN   \n",
       "1                    325.0                   -325.0           NaN   \n",
       "2                      0.0                      0.0           NaN   \n",
       "3                   1000.0                  -1000.0           NaN   \n",
       "4                      0.0                      0.0           NaN   \n",
       "\n",
       "                         assumptions/applied methods  \\\n",
       "0                                                NaN   \n",
       "1  It's reported that as of 2022 trade potential ...   \n",
       "2  Following the specifics of the CASA-1000 proje...   \n",
       "3                                                NaN   \n",
       "4                                                NaN   \n",
       "\n",
       "                                         other notes  \\\n",
       "0  Afghanistan had joined China's Belt and Road i...   \n",
       "1                                                NaN   \n",
       "2                                                NaN   \n",
       "3  Currently a trade agreement of 400 MW for unil...   \n",
       "4  No capacity as of yet, but a subsea transmissi...   \n",
       "\n",
       "                              source existing (2023)  \\\n",
       "0  https://iea.blob.core.windows.net/assets/b066e...   \n",
       "1  https://www.tehrantimes.com/news/468852/Iran-e...   \n",
       "2  https://iea.blob.core.windows.net/assets/b066e...   \n",
       "3  https://iea.blob.core.windows.net/assets/b066e...   \n",
       "4          https://openinframap.org/#4.16/20.3/63.43   \n",
       "\n",
       "                                      source planned  \n",
       "0  https://www.reuters.com/world/asia-pacific/tal...  \n",
       "1  https://www.tehrantimes.com/news/468852/Iran-e...  \n",
       "2  https://iea.blob.core.windows.net/assets/b066e...  \n",
       "3  https://pajhwok.com/2023/01/29/power-supply-pr...  \n",
       "4  https://www.siasat.com/india-planning-power-gr...  "
      ]
     },
     "execution_count": 4,
     "metadata": {},
     "output_type": "execute_result"
    }
   ],
   "source": [
    "db_plots.df.DATABASE.head(5)"
   ]
  },
  {
   "cell_type": "code",
   "execution_count": 20,
   "metadata": {},
   "outputs": [
    {
     "data": {
      "application/vnd.plotly.v1+json": {
       "config": {
        "plotlyServerURL": "https://plot.ly"
       },
       "data": [
        {
         "colorscale": [
          [
           0,
           "#d3e6d4"
          ],
          [
           1,
           "#d3e6d4"
          ]
         ],
         "customdata": [
          [
           "Asia",
           "Southern Asia"
          ],
          [
           "Europe",
           "Southern Europe"
          ],
          [
           "Africa",
           "Northern Africa"
          ],
          [
           "Africa",
           "Sub-Saharan Africa"
          ],
          [
           "Americas",
           "Latin America and the Caribbean"
          ],
          [
           "Asia",
           "Western Asia"
          ],
          [
           "Oceania",
           "Australia and New Zealand"
          ],
          [
           "Europe",
           "Western Europe"
          ],
          [
           "Asia",
           "Western Asia"
          ],
          [
           "Asia",
           "Western Asia"
          ],
          [
           "Asia",
           "Southern Asia"
          ],
          [
           "Europe",
           "Eastern Europe"
          ],
          [
           "Europe",
           "Western Europe"
          ],
          [
           "Americas",
           "Latin America and the Caribbean"
          ],
          [
           "Africa",
           "Sub-Saharan Africa"
          ],
          [
           "Asia",
           "Southern Asia"
          ],
          [
           "Americas",
           "Latin America and the Caribbean"
          ],
          [
           "Europe",
           "Southern Europe"
          ],
          [
           "Africa",
           "Sub-Saharan Africa"
          ],
          [
           "Americas",
           "Latin America and the Caribbean"
          ],
          [
           "Asia",
           "South-eastern Asia"
          ],
          [
           "Europe",
           "Eastern Europe"
          ],
          [
           "Africa",
           "Sub-Saharan Africa"
          ],
          [
           "Africa",
           "Sub-Saharan Africa"
          ],
          [
           "Asia",
           "South-eastern Asia"
          ],
          [
           "Africa",
           "Sub-Saharan Africa"
          ],
          [
           "Americas",
           "Northern America"
          ],
          [
           "Africa",
           "Sub-Saharan Africa"
          ],
          [
           "Africa",
           "Sub-Saharan Africa"
          ],
          [
           "Americas",
           "Latin America and the Caribbean"
          ],
          [
           "Asia",
           "Eastern Asia"
          ],
          [
           "Americas",
           "Latin America and the Caribbean"
          ],
          [
           "Africa",
           "Sub-Saharan Africa"
          ],
          [
           "Africa",
           "Sub-Saharan Africa"
          ],
          [
           "Americas",
           "Latin America and the Caribbean"
          ],
          [
           "Africa",
           "Sub-Saharan Africa"
          ],
          [
           "Europe",
           "Southern Europe"
          ],
          [
           "Asia",
           "Western Asia"
          ],
          [
           "Europe",
           "Eastern Europe"
          ],
          [
           "Europe",
           "Northern Europe"
          ],
          [
           "Africa",
           "Sub-Saharan Africa"
          ],
          [
           "Americas",
           "Latin America and the Caribbean"
          ],
          [
           "Americas",
           "Latin America and the Caribbean"
          ],
          [
           "Africa",
           "Northern Africa"
          ],
          [
           "Americas",
           "Latin America and the Caribbean"
          ],
          [
           "Africa",
           "Sub-Saharan Africa"
          ],
          [
           "Africa",
           "Sub-Saharan Africa"
          ],
          [
           "Europe",
           "Northern Europe"
          ],
          [
           "Africa",
           "Sub-Saharan Africa"
          ],
          [
           "Africa",
           "Sub-Saharan Africa"
          ],
          [
           "Europe",
           "Northern Europe"
          ],
          [
           "Europe",
           "Western Europe"
          ],
          [
           "Americas",
           "Latin America and the Caribbean"
          ],
          [
           "Africa",
           "Sub-Saharan Africa"
          ],
          [
           "Africa",
           "Sub-Saharan Africa"
          ],
          [
           "Asia",
           "Western Asia"
          ],
          [
           "Europe",
           "Western Europe"
          ],
          [
           "Africa",
           "Sub-Saharan Africa"
          ],
          [
           "Europe",
           "Southern Europe"
          ],
          [
           "Americas",
           "Northern America"
          ],
          [
           "Americas",
           "Latin America and the Caribbean"
          ],
          [
           "Africa",
           "Sub-Saharan Africa"
          ],
          [
           "Africa",
           "Sub-Saharan Africa"
          ],
          [
           "Americas",
           "Latin America and the Caribbean"
          ],
          [
           "Americas",
           "Latin America and the Caribbean"
          ],
          [
           "Americas",
           "Latin America and the Caribbean"
          ],
          [
           "Europe",
           "Eastern Europe"
          ],
          [
           "Europe",
           "Northern Europe"
          ],
          [
           "Asia",
           "Southern Asia"
          ],
          [
           "Asia",
           "South-eastern Asia"
          ],
          [
           "Asia",
           "Southern Asia"
          ],
          [
           "Asia",
           "Western Asia"
          ],
          [
           "Europe",
           "Northern Europe"
          ],
          [
           "Asia",
           "Western Asia"
          ],
          [
           "Europe",
           "Southern Europe"
          ],
          [
           "Asia",
           "Eastern Asia"
          ],
          [
           "Asia",
           "Western Asia"
          ],
          [
           "Asia",
           "Central Asia"
          ],
          [
           "Africa",
           "Sub-Saharan Africa"
          ],
          [
           "Asia",
           "Eastern Asia"
          ],
          [
           "Asia",
           "Eastern Asia"
          ],
          [
           "Asia",
           "Western Asia"
          ],
          [
           "Asia",
           "Central Asia"
          ],
          [
           "Asia",
           "South-eastern Asia"
          ],
          [
           "Europe",
           "Northern Europe"
          ],
          [
           "Asia",
           "Western Asia"
          ],
          [
           "Africa",
           "Sub-Saharan Africa"
          ],
          [
           "Africa",
           "Sub-Saharan Africa"
          ],
          [
           "Africa",
           "Northern Africa"
          ],
          [
           "Europe",
           "Northern Europe"
          ],
          [
           "Europe",
           "Western Europe"
          ],
          [
           "Africa",
           "Sub-Saharan Africa"
          ],
          [
           "Asia",
           "South-eastern Asia"
          ],
          [
           "Africa",
           "Sub-Saharan Africa"
          ],
          [
           "Europe",
           "Southern Europe"
          ],
          [
           "Africa",
           "Sub-Saharan Africa"
          ],
          [
           "Americas",
           "Latin America and the Caribbean"
          ],
          [
           "Europe",
           "Eastern Europe"
          ],
          [
           "Asia",
           "Eastern Asia"
          ],
          [
           "Europe",
           "Southern Europe"
          ],
          [
           "Africa",
           "Northern Africa"
          ],
          [
           "Africa",
           "Sub-Saharan Africa"
          ],
          [
           "Asia",
           "South-eastern Asia"
          ],
          [
           "Africa",
           "Sub-Saharan Africa"
          ],
          [
           "Asia",
           "Southern Asia"
          ],
          [
           "Europe",
           "Western Europe"
          ],
          [
           "Americas",
           "Latin America and the Caribbean"
          ],
          [
           "Africa",
           "Sub-Saharan Africa"
          ],
          [
           "Africa",
           "Sub-Saharan Africa"
          ],
          [
           "Europe",
           "Southern Europe"
          ],
          [
           "Europe",
           "Northern Europe"
          ],
          [
           "Asia",
           "Western Asia"
          ],
          [
           "Asia",
           "Southern Asia"
          ],
          [
           "Americas",
           "Latin America and the Caribbean"
          ],
          [
           "Oceania",
           "Melanesia"
          ],
          [
           "Americas",
           "Latin America and the Caribbean"
          ],
          [
           "Americas",
           "Latin America and the Caribbean"
          ],
          [
           "Asia",
           "South-eastern Asia"
          ],
          [
           "Europe",
           "Eastern Europe"
          ],
          [
           "Europe",
           "Southern Europe"
          ],
          [
           "Asia",
           "Western Asia"
          ],
          [
           "Europe",
           "Eastern Europe"
          ],
          [
           "Europe",
           "Eastern Europe"
          ],
          [
           "Africa",
           "Sub-Saharan Africa"
          ],
          [
           "Asia",
           "Western Asia"
          ],
          [
           "Africa",
           "Sub-Saharan Africa"
          ],
          [
           "Europe",
           "Southern Europe"
          ],
          [
           "Africa",
           "Sub-Saharan Africa"
          ],
          [
           "Asia",
           "South-eastern Asia"
          ],
          [
           "Europe",
           "Eastern Europe"
          ],
          [
           "Europe",
           "Southern Europe"
          ],
          [
           "Africa",
           "Sub-Saharan Africa"
          ],
          [
           "Africa",
           "Sub-Saharan Africa"
          ],
          [
           "Africa",
           "Sub-Saharan Africa"
          ],
          [
           "Europe",
           "Southern Europe"
          ],
          [
           "Asia",
           "Southern Asia"
          ],
          [
           "Africa",
           "Northern Africa"
          ],
          [
           "Americas",
           "Latin America and the Caribbean"
          ],
          [
           "Europe",
           "Northern Europe"
          ],
          [
           "Europe",
           "Western Europe"
          ],
          [
           "Asia",
           "Western Asia"
          ],
          [
           "Asia",
           "Eastern Asia"
          ],
          [
           "Asia",
           "Central Asia"
          ],
          [
           "Africa",
           "Sub-Saharan Africa"
          ],
          [
           "Asia",
           "South-eastern Asia"
          ],
          [
           "Asia",
           "South-eastern Asia"
          ],
          [
           "Africa",
           "Sub-Saharan Africa"
          ],
          [
           "Africa",
           "Northern Africa"
          ],
          [
           "Asia",
           "Western Asia"
          ],
          [
           "Asia",
           "Central Asia"
          ],
          [
           "Africa",
           "Sub-Saharan Africa"
          ],
          [
           "Europe",
           "Eastern Europe"
          ],
          [
           "Asia",
           "Western Asia"
          ],
          [
           "Europe",
           "Northern Europe"
          ],
          [
           "Americas",
           "Northern America"
          ],
          [
           "Americas",
           "Latin America and the Caribbean"
          ],
          [
           "Asia",
           "Central Asia"
          ],
          [
           "Americas",
           "Latin America and the Caribbean"
          ],
          [
           "Asia",
           "South-eastern Asia"
          ],
          [
           "Africa",
           "Northern Africa"
          ],
          [
           "Asia",
           "Western Asia"
          ],
          [
           "Africa",
           "Sub-Saharan Africa"
          ],
          [
           "Africa",
           "Sub-Saharan Africa"
          ]
         ],
         "geo": "geo",
         "hovertemplate": "<b>%{hovertext}</b><br><br>Included=Included<br>alpha-3=%{location}<br>region=%{customdata[0]}<br>sub-region=%{customdata[1]}<extra></extra>",
         "hovertext": [
          "Afghanistan",
          "Albania",
          "Algeria",
          "Angola",
          "Argentina",
          "Armenia",
          "Australia",
          "Austria",
          "Azerbaijan",
          "Bahrain",
          "Bangladesh",
          "Belarus",
          "Belgium",
          "Belize",
          "Benin",
          "Bhutan",
          "Bolivia (Plurinational State of)",
          "Bosnia and Herzegovina",
          "Botswana",
          "Brazil",
          "Brunei Darussalam",
          "Bulgaria",
          "Burkina Faso",
          "Burundi",
          "Cambodia",
          "Cameroon",
          "Canada",
          "Central African Republic",
          "Chad",
          "Chile",
          "China",
          "Colombia",
          "Congo",
          "Congo, Democratic Republic of the",
          "Costa Rica",
          "Cote d'Ivoire",
          "Croatia",
          "Cyprus",
          "Czechia",
          "Denmark",
          "Djibouti",
          "Dominican Republic",
          "Ecuador",
          "Egypt",
          "El Salvador",
          "Equatorial Guinea",
          "Eritrea",
          "Estonia",
          "Eswatini",
          "Ethiopia",
          "Finland",
          "France",
          "French Guiana",
          "Gabon",
          "Gambia",
          "Georgia",
          "Germany",
          "Ghana",
          "Greece",
          "Greenland",
          "Guatemala",
          "Guinea",
          "Guinea-Bissau",
          "Guyana",
          "Haiti",
          "Honduras",
          "Hungary",
          "Iceland",
          "India",
          "Indonesia",
          "Iran (Islamic Republic of)",
          "Iraq",
          "Ireland",
          "Israel",
          "Italy",
          "Japan",
          "Jordan",
          "Kazakhstan",
          "Kenya",
          "Korea (Democratic People's Republic of)",
          "Korea, Republic of",
          "Kuwait",
          "Kyrgyzstan",
          "Lao People's Democratic Republic",
          "Latvia",
          "Lebanon",
          "Lesotho",
          "Liberia",
          "Libya",
          "Lithuania",
          "Luxembourg",
          "Malawi",
          "Malaysia",
          "Mali",
          "Malta",
          "Mauritania",
          "Mexico",
          "Moldova, Republic of",
          "Mongolia",
          "Montenegro",
          "Morocco",
          "Mozambique",
          "Myanmar",
          "Namibia",
          "Nepal",
          "Netherlands",
          "Nicaragua",
          "Niger",
          "Nigeria",
          "North Macedonia",
          "Norway",
          "Oman",
          "Pakistan",
          "Panama",
          "Papua New Guinea",
          "Paraguay",
          "Peru",
          "Philippines",
          "Poland",
          "Portugal",
          "Qatar",
          "Romania",
          "Russian Federation",
          "Rwanda",
          "Saudi Arabia",
          "Senegal",
          "Serbia",
          "Sierra Leone",
          "Singapore",
          "Slovakia",
          "Slovenia",
          "Somalia",
          "South Africa",
          "South Sudan",
          "Spain",
          "Sri Lanka",
          "Sudan",
          "Suriname",
          "Sweden",
          "Switzerland",
          "Syrian Arab Republic",
          "Taiwan, Province of China",
          "Tajikistan",
          "Tanzania, United Republic of",
          "Thailand",
          "Timor-Leste",
          "Togo",
          "Tunisia",
          "Turkey",
          "Turkmenistan",
          "Uganda",
          "Ukraine",
          "United Arab Emirates",
          "United Kingdom of Great Britain and Northern Ireland",
          "United States of America",
          "Uruguay",
          "Uzbekistan",
          "Venezuela (Bolivarian Republic of)",
          "Viet Nam",
          "Western Sahara",
          "Yemen",
          "Zambia",
          "Zimbabwe"
         ],
         "locations": [
          "AFG",
          "ALB",
          "DZA",
          "AGO",
          "ARG",
          "ARM",
          "AUS",
          "AUT",
          "AZE",
          "BHR",
          "BGD",
          "BLR",
          "BEL",
          "BLZ",
          "BEN",
          "BTN",
          "BOL",
          "BIH",
          "BWA",
          "BRA",
          "BRN",
          "BGR",
          "BFA",
          "BDI",
          "KHM",
          "CMR",
          "CAN",
          "CAF",
          "TCD",
          "CHL",
          "CHN",
          "COL",
          "COG",
          "COD",
          "CRI",
          "CIV",
          "HRV",
          "CYP",
          "CZE",
          "DNK",
          "DJI",
          "DOM",
          "ECU",
          "EGY",
          "SLV",
          "GNQ",
          "ERI",
          "EST",
          "SWZ",
          "ETH",
          "FIN",
          "FRA",
          "GUF",
          "GAB",
          "GMB",
          "GEO",
          "DEU",
          "GHA",
          "GRC",
          "GRL",
          "GTM",
          "GIN",
          "GNB",
          "GUY",
          "HTI",
          "HND",
          "HUN",
          "ISL",
          "IND",
          "IDN",
          "IRN",
          "IRQ",
          "IRL",
          "ISR",
          "ITA",
          "JPN",
          "JOR",
          "KAZ",
          "KEN",
          "PRK",
          "KOR",
          "KWT",
          "KGZ",
          "LAO",
          "LVA",
          "LBN",
          "LSO",
          "LBR",
          "LBY",
          "LTU",
          "LUX",
          "MWI",
          "MYS",
          "MLI",
          "MLT",
          "MRT",
          "MEX",
          "MDA",
          "MNG",
          "MNE",
          "MAR",
          "MOZ",
          "MMR",
          "NAM",
          "NPL",
          "NLD",
          "NIC",
          "NER",
          "NGA",
          "MKD",
          "NOR",
          "OMN",
          "PAK",
          "PAN",
          "PNG",
          "PRY",
          "PER",
          "PHL",
          "POL",
          "PRT",
          "QAT",
          "ROU",
          "RUS",
          "RWA",
          "SAU",
          "SEN",
          "SRB",
          "SLE",
          "SGP",
          "SVK",
          "SVN",
          "SOM",
          "ZAF",
          "SSD",
          "ESP",
          "LKA",
          "SDN",
          "SUR",
          "SWE",
          "CHE",
          "SYR",
          "TWN",
          "TJK",
          "TZA",
          "THA",
          "TLS",
          "TGO",
          "TUN",
          "TUR",
          "TKM",
          "UGA",
          "UKR",
          "ARE",
          "GBR",
          "USA",
          "URY",
          "UZB",
          "VEN",
          "VNM",
          "ESH",
          "YEM",
          "ZMB",
          "ZWE"
         ],
         "marker": {
          "line": {
           "color": "lightgray",
           "width": 0.5
          }
         },
         "name": "Included",
         "showlegend": true,
         "showscale": false,
         "type": "choropleth",
         "z": [
          1,
          1,
          1,
          1,
          1,
          1,
          1,
          1,
          1,
          1,
          1,
          1,
          1,
          1,
          1,
          1,
          1,
          1,
          1,
          1,
          1,
          1,
          1,
          1,
          1,
          1,
          1,
          1,
          1,
          1,
          1,
          1,
          1,
          1,
          1,
          1,
          1,
          1,
          1,
          1,
          1,
          1,
          1,
          1,
          1,
          1,
          1,
          1,
          1,
          1,
          1,
          1,
          1,
          1,
          1,
          1,
          1,
          1,
          1,
          1,
          1,
          1,
          1,
          1,
          1,
          1,
          1,
          1,
          1,
          1,
          1,
          1,
          1,
          1,
          1,
          1,
          1,
          1,
          1,
          1,
          1,
          1,
          1,
          1,
          1,
          1,
          1,
          1,
          1,
          1,
          1,
          1,
          1,
          1,
          1,
          1,
          1,
          1,
          1,
          1,
          1,
          1,
          1,
          1,
          1,
          1,
          1,
          1,
          1,
          1,
          1,
          1,
          1,
          1,
          1,
          1,
          1,
          1,
          1,
          1,
          1,
          1,
          1,
          1,
          1,
          1,
          1,
          1,
          1,
          1,
          1,
          1,
          1,
          1,
          1,
          1,
          1,
          1,
          1,
          1,
          1,
          1,
          1,
          1,
          1,
          1,
          1,
          1,
          1,
          1,
          1,
          1,
          1,
          1,
          1,
          1,
          1,
          1,
          1,
          1,
          1,
          1,
          1
         ]
        },
        {
         "colorscale": [
          [
           0,
           "#f0a3af"
          ],
          [
           1,
           "#f0a3af"
          ]
         ],
         "customdata": [
          [
           "Europe",
           "Northern Europe"
          ],
          [
           "Oceania",
           "Polynesia"
          ],
          [
           "Europe",
           "Southern Europe"
          ],
          [
           "Americas",
           "Latin America and the Caribbean"
          ],
          [
           null,
           null
          ],
          [
           "Americas",
           "Latin America and the Caribbean"
          ],
          [
           "Americas",
           "Latin America and the Caribbean"
          ],
          [
           "Americas",
           "Latin America and the Caribbean"
          ],
          [
           "Americas",
           "Latin America and the Caribbean"
          ],
          [
           "Americas",
           "Northern America"
          ],
          [
           "Americas",
           "Latin America and the Caribbean"
          ],
          [
           "Americas",
           "Latin America and the Caribbean"
          ],
          [
           "Africa",
           "Sub-Saharan Africa"
          ],
          [
           "Africa",
           "Sub-Saharan Africa"
          ],
          [
           "Americas",
           "Latin America and the Caribbean"
          ],
          [
           "Oceania",
           "Australia and New Zealand"
          ],
          [
           "Oceania",
           "Australia and New Zealand"
          ],
          [
           "Africa",
           "Sub-Saharan Africa"
          ],
          [
           "Oceania",
           "Polynesia"
          ],
          [
           "Americas",
           "Latin America and the Caribbean"
          ],
          [
           "Americas",
           "Latin America and the Caribbean"
          ],
          [
           "Americas",
           "Latin America and the Caribbean"
          ],
          [
           "Americas",
           "Latin America and the Caribbean"
          ],
          [
           "Europe",
           "Northern Europe"
          ],
          [
           "Oceania",
           "Melanesia"
          ],
          [
           "Oceania",
           "Polynesia"
          ],
          [
           "Africa",
           "Sub-Saharan Africa"
          ],
          [
           "Europe",
           "Southern Europe"
          ],
          [
           "Americas",
           "Latin America and the Caribbean"
          ],
          [
           "Americas",
           "Latin America and the Caribbean"
          ],
          [
           "Oceania",
           "Micronesia"
          ],
          [
           "Europe",
           "Northern Europe"
          ],
          [
           "Oceania",
           "Australia and New Zealand"
          ],
          [
           "Europe",
           "Southern Europe"
          ],
          [
           "Asia",
           "Eastern Asia"
          ],
          [
           "Europe",
           "Northern Europe"
          ],
          [
           "Americas",
           "Latin America and the Caribbean"
          ],
          [
           "Europe",
           "Northern Europe"
          ],
          [
           "Oceania",
           "Micronesia"
          ],
          [
           "Europe",
           "Western Europe"
          ],
          [
           "Asia",
           "Eastern Asia"
          ],
          [
           "Africa",
           "Sub-Saharan Africa"
          ],
          [
           "Asia",
           "Southern Asia"
          ],
          [
           "Oceania",
           "Micronesia"
          ],
          [
           "Americas",
           "Latin America and the Caribbean"
          ],
          [
           "Africa",
           "Sub-Saharan Africa"
          ],
          [
           "Africa",
           "Sub-Saharan Africa"
          ],
          [
           "Oceania",
           "Micronesia"
          ],
          [
           "Europe",
           "Western Europe"
          ],
          [
           "Americas",
           "Latin America and the Caribbean"
          ],
          [
           "Oceania",
           "Micronesia"
          ],
          [
           "Oceania",
           "Melanesia"
          ],
          [
           "Oceania",
           "Australia and New Zealand"
          ],
          [
           "Oceania",
           "Polynesia"
          ],
          [
           "Oceania",
           "Australia and New Zealand"
          ],
          [
           "Oceania",
           "Micronesia"
          ],
          [
           "Oceania",
           "Micronesia"
          ],
          [
           "Asia",
           "Western Asia"
          ],
          [
           "Oceania",
           "Polynesia"
          ],
          [
           "Americas",
           "Latin America and the Caribbean"
          ],
          [
           "Africa",
           "Sub-Saharan Africa"
          ],
          [
           "Americas",
           "Latin America and the Caribbean"
          ],
          [
           "Africa",
           "Sub-Saharan Africa"
          ],
          [
           "Americas",
           "Latin America and the Caribbean"
          ],
          [
           "Americas",
           "Latin America and the Caribbean"
          ],
          [
           "Americas",
           "Latin America and the Caribbean"
          ],
          [
           "Americas",
           "Northern America"
          ],
          [
           "Americas",
           "Latin America and the Caribbean"
          ],
          [
           "Oceania",
           "Polynesia"
          ],
          [
           "Europe",
           "Southern Europe"
          ],
          [
           "Africa",
           "Sub-Saharan Africa"
          ],
          [
           "Africa",
           "Sub-Saharan Africa"
          ],
          [
           "Americas",
           "Latin America and the Caribbean"
          ],
          [
           "Oceania",
           "Melanesia"
          ],
          [
           "Americas",
           "Latin America and the Caribbean"
          ],
          [
           "Europe",
           "Northern Europe"
          ],
          [
           "Oceania",
           "Polynesia"
          ],
          [
           "Oceania",
           "Polynesia"
          ],
          [
           "Americas",
           "Latin America and the Caribbean"
          ],
          [
           "Americas",
           "Latin America and the Caribbean"
          ],
          [
           "Oceania",
           "Polynesia"
          ],
          [
           "Oceania",
           "Micronesia"
          ],
          [
           "Oceania",
           "Melanesia"
          ],
          [
           "Americas",
           "Latin America and the Caribbean"
          ],
          [
           "Americas",
           "Latin America and the Caribbean"
          ],
          [
           "Oceania",
           "Polynesia"
          ]
         ],
         "geo": "geo",
         "hovertemplate": "<b>%{hovertext}</b><br><br>Included=Excluded<br>alpha-3=%{location}<br>region=%{customdata[0]}<br>sub-region=%{customdata[1]}<extra></extra>",
         "hovertext": [
          "Aland Islands",
          "American Samoa",
          "Andorra",
          "Anguilla",
          "Antarctica",
          "Antigua and Barbuda",
          "Aruba",
          "Bahamas",
          "Barbados",
          "Bermuda",
          "Bonaire, Sint Eustatius and Saba",
          "Bouvet Island",
          "British Indian Ocean Territory",
          "Cabo Verde",
          "Cayman Islands",
          "Christmas Island",
          "Cocos (Keeling) Islands",
          "Comoros",
          "Cook Islands",
          "Cuba",
          "Curacao",
          "Dominica",
          "Falkland Islands (Malvinas)",
          "Faroe Islands",
          "Fiji",
          "French Polynesia",
          "French Southern Territories",
          "Gibraltar",
          "Grenada",
          "Guadeloupe",
          "Guam",
          "Guernsey",
          "Heard Island and McDonald Islands",
          "Holy See",
          "Hong Kong",
          "Isle of Man",
          "Jamaica",
          "Jersey",
          "Kiribati",
          "Liechtenstein",
          "Macao",
          "Madagascar",
          "Maldives",
          "Marshall Islands",
          "Martinique",
          "Mauritius",
          "Mayotte",
          "Micronesia (Federated States of)",
          "Monaco",
          "Montserrat",
          "Nauru",
          "New Caledonia",
          "New Zealand",
          "Niue",
          "Norfolk Island",
          "Northern Mariana Islands",
          "Palau",
          "Palestine, State of",
          "Pitcairn",
          "Puerto Rico",
          "Reunion",
          "Saint Barthelemy",
          "Saint Helena, Ascension and Tristan da Cunha",
          "Saint Kitts and Nevis",
          "Saint Lucia",
          "Saint Martin (French part)",
          "Saint Pierre and Miquelon",
          "Saint Vincent and the Grenadines",
          "Samoa",
          "San Marino",
          "Sao Tome and Principe",
          "Seychelles",
          "Sint Maarten (Dutch part)",
          "Solomon Islands",
          "South Georgia and the South Sandwich Islands",
          "Svalbard and Jan Mayen",
          "Tokelau",
          "Tonga",
          "Trinidad and Tobago",
          "Turks and Caicos Islands",
          "Tuvalu",
          "United States Minor Outlying Islands",
          "Vanuatu",
          "Virgin Islands (British)",
          "Virgin Islands (U.S.)",
          "Wallis and Futuna"
         ],
         "locations": [
          "ALA",
          "ASM",
          "AND",
          "AIA",
          "ATA",
          "ATG",
          "ABW",
          "BHS",
          "BRB",
          "BMU",
          "BES",
          "BVT",
          "IOT",
          "CPV",
          "CYM",
          "CXR",
          "CCK",
          "COM",
          "COK",
          "CUB",
          "CUW",
          "DMA",
          "FLK",
          "FRO",
          "FJI",
          "PYF",
          "ATF",
          "GIB",
          "GRD",
          "GLP",
          "GUM",
          "GGY",
          "HMD",
          "VAT",
          "HKG",
          "IMN",
          "JAM",
          "JEY",
          "KIR",
          "LIE",
          "MAC",
          "MDG",
          "MDV",
          "MHL",
          "MTQ",
          "MUS",
          "MYT",
          "FSM",
          "MCO",
          "MSR",
          "NRU",
          "NCL",
          "NZL",
          "NIU",
          "NFK",
          "MNP",
          "PLW",
          "PSE",
          "PCN",
          "PRI",
          "REU",
          "BLM",
          "SHN",
          "KNA",
          "LCA",
          "MAF",
          "SPM",
          "VCT",
          "WSM",
          "SMR",
          "STP",
          "SYC",
          "SXM",
          "SLB",
          "SGS",
          "SJM",
          "TKL",
          "TON",
          "TTO",
          "TCA",
          "TUV",
          "UMI",
          "VUT",
          "VGB",
          "VIR",
          "WLF"
         ],
         "marker": {
          "line": {
           "color": "lightgray",
           "width": 0.5
          }
         },
         "name": "Excluded",
         "showlegend": true,
         "showscale": false,
         "type": "choropleth",
         "z": [
          1,
          1,
          1,
          1,
          1,
          1,
          1,
          1,
          1,
          1,
          1,
          1,
          1,
          1,
          1,
          1,
          1,
          1,
          1,
          1,
          1,
          1,
          1,
          1,
          1,
          1,
          1,
          1,
          1,
          1,
          1,
          1,
          1,
          1,
          1,
          1,
          1,
          1,
          1,
          1,
          1,
          1,
          1,
          1,
          1,
          1,
          1,
          1,
          1,
          1,
          1,
          1,
          1,
          1,
          1,
          1,
          1,
          1,
          1,
          1,
          1,
          1,
          1,
          1,
          1,
          1,
          1,
          1,
          1,
          1,
          1,
          1,
          1,
          1,
          1,
          1,
          1,
          1,
          1,
          1,
          1,
          1,
          1,
          1,
          1,
          1
         ]
        }
       ],
       "layout": {
        "geo": {
         "center": {},
         "domain": {
          "x": [
           0,
           1
          ],
          "y": [
           0,
           1
          ]
         },
         "lakecolor": "rgb(255, 255, 255)",
         "lataxis": {
          "dtick": 15,
          "gridwidth": 0.5,
          "showgrid": false
         },
         "lonaxis": {
          "dtick": 15,
          "gridwidth": 0.5,
          "showgrid": false
         },
         "oceancolor": "white",
         "projection": {
          "type": "natural earth"
         },
         "resolution": 110,
         "showcoastlines": false,
         "showcountries": false,
         "showlakes": false,
         "showland": false,
         "showocean": false,
         "showrivers": false,
         "showsubunits": false
        },
        "height": 400,
        "legend": {
         "orientation": "v",
         "title": {},
         "tracegroupgap": 0,
         "x": 0.05,
         "xanchor": "left",
         "y": 0.6,
         "yanchor": "top"
        },
        "margin": {
         "b": 5,
         "l": 5,
         "r": 5,
         "t": 5
        },
        "showlegend": true,
        "template": {
         "data": {
          "bar": [
           {
            "error_x": {
             "color": "rgb(51,51,51)"
            },
            "error_y": {
             "color": "rgb(51,51,51)"
            },
            "marker": {
             "line": {
              "color": "rgb(237,237,237)",
              "width": 0.5
             },
             "pattern": {
              "fillmode": "overlay",
              "size": 10,
              "solidity": 0.2
             }
            },
            "type": "bar"
           }
          ],
          "barpolar": [
           {
            "marker": {
             "line": {
              "color": "rgb(237,237,237)",
              "width": 0.5
             },
             "pattern": {
              "fillmode": "overlay",
              "size": 10,
              "solidity": 0.2
             }
            },
            "type": "barpolar"
           }
          ],
          "carpet": [
           {
            "aaxis": {
             "endlinecolor": "rgb(51,51,51)",
             "gridcolor": "white",
             "linecolor": "white",
             "minorgridcolor": "white",
             "startlinecolor": "rgb(51,51,51)"
            },
            "baxis": {
             "endlinecolor": "rgb(51,51,51)",
             "gridcolor": "white",
             "linecolor": "white",
             "minorgridcolor": "white",
             "startlinecolor": "rgb(51,51,51)"
            },
            "type": "carpet"
           }
          ],
          "choropleth": [
           {
            "colorbar": {
             "outlinewidth": 0,
             "tickcolor": "rgb(237,237,237)",
             "ticklen": 6,
             "ticks": "inside"
            },
            "type": "choropleth"
           }
          ],
          "contour": [
           {
            "colorbar": {
             "outlinewidth": 0,
             "tickcolor": "rgb(237,237,237)",
             "ticklen": 6,
             "ticks": "inside"
            },
            "colorscale": [
             [
              0,
              "rgb(20,44,66)"
             ],
             [
              1,
              "rgb(90,179,244)"
             ]
            ],
            "type": "contour"
           }
          ],
          "contourcarpet": [
           {
            "colorbar": {
             "outlinewidth": 0,
             "tickcolor": "rgb(237,237,237)",
             "ticklen": 6,
             "ticks": "inside"
            },
            "type": "contourcarpet"
           }
          ],
          "heatmap": [
           {
            "colorbar": {
             "outlinewidth": 0,
             "tickcolor": "rgb(237,237,237)",
             "ticklen": 6,
             "ticks": "inside"
            },
            "colorscale": [
             [
              0,
              "rgb(20,44,66)"
             ],
             [
              1,
              "rgb(90,179,244)"
             ]
            ],
            "type": "heatmap"
           }
          ],
          "heatmapgl": [
           {
            "colorbar": {
             "outlinewidth": 0,
             "tickcolor": "rgb(237,237,237)",
             "ticklen": 6,
             "ticks": "inside"
            },
            "colorscale": [
             [
              0,
              "rgb(20,44,66)"
             ],
             [
              1,
              "rgb(90,179,244)"
             ]
            ],
            "type": "heatmapgl"
           }
          ],
          "histogram": [
           {
            "marker": {
             "pattern": {
              "fillmode": "overlay",
              "size": 10,
              "solidity": 0.2
             }
            },
            "type": "histogram"
           }
          ],
          "histogram2d": [
           {
            "colorbar": {
             "outlinewidth": 0,
             "tickcolor": "rgb(237,237,237)",
             "ticklen": 6,
             "ticks": "inside"
            },
            "colorscale": [
             [
              0,
              "rgb(20,44,66)"
             ],
             [
              1,
              "rgb(90,179,244)"
             ]
            ],
            "type": "histogram2d"
           }
          ],
          "histogram2dcontour": [
           {
            "colorbar": {
             "outlinewidth": 0,
             "tickcolor": "rgb(237,237,237)",
             "ticklen": 6,
             "ticks": "inside"
            },
            "colorscale": [
             [
              0,
              "rgb(20,44,66)"
             ],
             [
              1,
              "rgb(90,179,244)"
             ]
            ],
            "type": "histogram2dcontour"
           }
          ],
          "mesh3d": [
           {
            "colorbar": {
             "outlinewidth": 0,
             "tickcolor": "rgb(237,237,237)",
             "ticklen": 6,
             "ticks": "inside"
            },
            "type": "mesh3d"
           }
          ],
          "parcoords": [
           {
            "line": {
             "colorbar": {
              "outlinewidth": 0,
              "tickcolor": "rgb(237,237,237)",
              "ticklen": 6,
              "ticks": "inside"
             }
            },
            "type": "parcoords"
           }
          ],
          "pie": [
           {
            "automargin": true,
            "type": "pie"
           }
          ],
          "scatter": [
           {
            "fillpattern": {
             "fillmode": "overlay",
             "size": 10,
             "solidity": 0.2
            },
            "type": "scatter"
           }
          ],
          "scatter3d": [
           {
            "line": {
             "colorbar": {
              "outlinewidth": 0,
              "tickcolor": "rgb(237,237,237)",
              "ticklen": 6,
              "ticks": "inside"
             }
            },
            "marker": {
             "colorbar": {
              "outlinewidth": 0,
              "tickcolor": "rgb(237,237,237)",
              "ticklen": 6,
              "ticks": "inside"
             }
            },
            "type": "scatter3d"
           }
          ],
          "scattercarpet": [
           {
            "marker": {
             "colorbar": {
              "outlinewidth": 0,
              "tickcolor": "rgb(237,237,237)",
              "ticklen": 6,
              "ticks": "inside"
             }
            },
            "type": "scattercarpet"
           }
          ],
          "scattergeo": [
           {
            "marker": {
             "colorbar": {
              "outlinewidth": 0,
              "tickcolor": "rgb(237,237,237)",
              "ticklen": 6,
              "ticks": "inside"
             }
            },
            "type": "scattergeo"
           }
          ],
          "scattergl": [
           {
            "marker": {
             "colorbar": {
              "outlinewidth": 0,
              "tickcolor": "rgb(237,237,237)",
              "ticklen": 6,
              "ticks": "inside"
             }
            },
            "type": "scattergl"
           }
          ],
          "scattermapbox": [
           {
            "marker": {
             "colorbar": {
              "outlinewidth": 0,
              "tickcolor": "rgb(237,237,237)",
              "ticklen": 6,
              "ticks": "inside"
             }
            },
            "type": "scattermapbox"
           }
          ],
          "scatterpolar": [
           {
            "marker": {
             "colorbar": {
              "outlinewidth": 0,
              "tickcolor": "rgb(237,237,237)",
              "ticklen": 6,
              "ticks": "inside"
             }
            },
            "type": "scatterpolar"
           }
          ],
          "scatterpolargl": [
           {
            "marker": {
             "colorbar": {
              "outlinewidth": 0,
              "tickcolor": "rgb(237,237,237)",
              "ticklen": 6,
              "ticks": "inside"
             }
            },
            "type": "scatterpolargl"
           }
          ],
          "scatterternary": [
           {
            "marker": {
             "colorbar": {
              "outlinewidth": 0,
              "tickcolor": "rgb(237,237,237)",
              "ticklen": 6,
              "ticks": "inside"
             }
            },
            "type": "scatterternary"
           }
          ],
          "surface": [
           {
            "colorbar": {
             "outlinewidth": 0,
             "tickcolor": "rgb(237,237,237)",
             "ticklen": 6,
             "ticks": "inside"
            },
            "colorscale": [
             [
              0,
              "rgb(20,44,66)"
             ],
             [
              1,
              "rgb(90,179,244)"
             ]
            ],
            "type": "surface"
           }
          ],
          "table": [
           {
            "cells": {
             "fill": {
              "color": "rgb(237,237,237)"
             },
             "line": {
              "color": "white"
             }
            },
            "header": {
             "fill": {
              "color": "rgb(217,217,217)"
             },
             "line": {
              "color": "white"
             }
            },
            "type": "table"
           }
          ]
         },
         "layout": {
          "annotationdefaults": {
           "arrowhead": 0,
           "arrowwidth": 1
          },
          "autotypenumbers": "strict",
          "coloraxis": {
           "colorbar": {
            "outlinewidth": 0,
            "tickcolor": "rgb(237,237,237)",
            "ticklen": 6,
            "ticks": "inside"
           }
          },
          "colorscale": {
           "sequential": [
            [
             0,
             "rgb(20,44,66)"
            ],
            [
             1,
             "rgb(90,179,244)"
            ]
           ],
           "sequentialminus": [
            [
             0,
             "rgb(20,44,66)"
            ],
            [
             1,
             "rgb(90,179,244)"
            ]
           ]
          },
          "colorway": [
           "#F8766D",
           "#A3A500",
           "#00BF7D",
           "#00B0F6",
           "#E76BF3"
          ],
          "font": {
           "color": "rgb(51,51,51)"
          },
          "geo": {
           "bgcolor": "white",
           "lakecolor": "white",
           "landcolor": "rgb(237,237,237)",
           "showlakes": true,
           "showland": true,
           "subunitcolor": "white"
          },
          "hoverlabel": {
           "align": "left"
          },
          "hovermode": "closest",
          "paper_bgcolor": "white",
          "plot_bgcolor": "rgb(237,237,237)",
          "polar": {
           "angularaxis": {
            "gridcolor": "white",
            "linecolor": "white",
            "showgrid": true,
            "tickcolor": "rgb(51,51,51)",
            "ticks": "outside"
           },
           "bgcolor": "rgb(237,237,237)",
           "radialaxis": {
            "gridcolor": "white",
            "linecolor": "white",
            "showgrid": true,
            "tickcolor": "rgb(51,51,51)",
            "ticks": "outside"
           }
          },
          "scene": {
           "xaxis": {
            "backgroundcolor": "rgb(237,237,237)",
            "gridcolor": "white",
            "gridwidth": 2,
            "linecolor": "white",
            "showbackground": true,
            "showgrid": true,
            "tickcolor": "rgb(51,51,51)",
            "ticks": "outside",
            "zerolinecolor": "white"
           },
           "yaxis": {
            "backgroundcolor": "rgb(237,237,237)",
            "gridcolor": "white",
            "gridwidth": 2,
            "linecolor": "white",
            "showbackground": true,
            "showgrid": true,
            "tickcolor": "rgb(51,51,51)",
            "ticks": "outside",
            "zerolinecolor": "white"
           },
           "zaxis": {
            "backgroundcolor": "rgb(237,237,237)",
            "gridcolor": "white",
            "gridwidth": 2,
            "linecolor": "white",
            "showbackground": true,
            "showgrid": true,
            "tickcolor": "rgb(51,51,51)",
            "ticks": "outside",
            "zerolinecolor": "white"
           }
          },
          "shapedefaults": {
           "fillcolor": "black",
           "line": {
            "width": 0
           },
           "opacity": 0.3
          },
          "ternary": {
           "aaxis": {
            "gridcolor": "white",
            "linecolor": "white",
            "showgrid": true,
            "tickcolor": "rgb(51,51,51)",
            "ticks": "outside"
           },
           "baxis": {
            "gridcolor": "white",
            "linecolor": "white",
            "showgrid": true,
            "tickcolor": "rgb(51,51,51)",
            "ticks": "outside"
           },
           "bgcolor": "rgb(237,237,237)",
           "caxis": {
            "gridcolor": "white",
            "linecolor": "white",
            "showgrid": true,
            "tickcolor": "rgb(51,51,51)",
            "ticks": "outside"
           }
          },
          "xaxis": {
           "automargin": true,
           "gridcolor": "white",
           "linecolor": "white",
           "showgrid": true,
           "tickcolor": "rgb(51,51,51)",
           "ticks": "outside",
           "title": {
            "standoff": 15
           },
           "zerolinecolor": "white"
          },
          "yaxis": {
           "automargin": true,
           "gridcolor": "white",
           "linecolor": "white",
           "showgrid": true,
           "tickcolor": "rgb(51,51,51)",
           "ticks": "outside",
           "title": {
            "standoff": 15
           },
           "zerolinecolor": "white"
          }
         }
        },
        "title": {
         "font": {
          "size": 22
         },
         "text": "<b>a)</b>",
         "x": 0.02,
         "y": 0.95
        },
        "width": 800
       }
      }
     },
     "metadata": {},
     "output_type": "display_data"
    }
   ],
   "source": [
    "fig = db_plots.map_excluded_regions(\n",
    "    showgrid=False,\n",
    "    colours={\n",
    "        'Included' : '#d3e6d4', \n",
    "        'Excluded' : '#f0a3af'\n",
    "    },    \n",
    ")\n",
    "\n",
    "# legend loc\n",
    "fig.update_layout(\n",
    "    title_text='<b>a)</b>', \n",
    "    titlefont=dict(size=22),\n",
    "    title_x=0.02, \n",
    "    title_y=0.95,\n",
    "    legend=dict(\n",
    "        yanchor=\"top\",\n",
    "        y=0.6,\n",
    "        xanchor=\"left\",\n",
    "        x=0.05,\n",
    "        orientation=\"v\",\n",
    "    )\n",
    ")\n",
    "\n",
    "\n",
    "fig.write_html('../outputs/figures/map_excluded_regions.html')\n",
    "plotly.io.write_image(fig, '../outputs/figures/map_excluded_regions.pdf', format='pdf')\n",
    "plotly.io.write_image(fig, '../outputs/figures/map_excluded_regions.pdf', format='pdf')\n",
    "\n",
    "fig.show()"
   ]
  },
  {
   "cell_type": "code",
   "execution_count": 22,
   "metadata": {},
   "outputs": [],
   "source": [
    "fig = db_plots.spatial_representation()\n",
    "\n",
    "# legend loc\n",
    "fig.update_layout(\n",
    "    title_text='<b>b)</b>', \n",
    "    titlefont=dict(size=22),\n",
    "    title_x=0.02, \n",
    "    title_y=0.95,\n",
    "    legend=dict(\n",
    "        yanchor=\"top\",\n",
    "        y=0.6,\n",
    "        xanchor=\"left\",\n",
    "        x=0.05,\n",
    "        orientation=\"v\",\n",
    "    )\n",
    ")\n",
    "\n",
    "fig.write_html('../outputs/figures/spatial_representation.html')\n",
    "plotly.io.write_image(fig, '../outputs/figures/spatial_representation.pdf', format='pdf')\n",
    "plotly.io.write_image(fig, '../outputs/figures/spatial_representation.pdf', format='pdf')\n",
    "\n",
    "fig.show()\n",
    "\n",
    "#fig.savefig(\"../outputs/figures/spatial-representation.png\", dpi=400)"
   ]
  },
  {
   "cell_type": "code",
   "execution_count": null,
   "metadata": {},
   "outputs": [],
   "source": []
  },
  {
   "cell_type": "code",
   "execution_count": null,
   "metadata": {},
   "outputs": [],
   "source": []
  },
  {
   "cell_type": "code",
   "execution_count": null,
   "metadata": {},
   "outputs": [],
   "source": []
  },
  {
   "cell_type": "code",
   "execution_count": null,
   "metadata": {},
   "outputs": [],
   "source": []
  },
  {
   "cell_type": "code",
   "execution_count": null,
   "metadata": {},
   "outputs": [],
   "source": [
    "fig,nodes,lines = db_plots.map_transmission_lines(\n",
    "    bins = [0,1,5,10,25],\n",
    "    labels = ['0-1','1-5','5-10','10-25'],\n",
    "    planned_capacity = True,\n",
    "    node_size = 4,\n",
    "    colours = {\n",
    "        'node' : 'teal',\n",
    "        'landcolor' : 'oldlace',\n",
    "        'borders' : 'lightgray',\n",
    "        'oceancolor' : 'white',\n",
    "        'line_existing' : 'lightcoral',\n",
    "        'line_planned' : 'navy',\n",
    "    },\n",
    "    line_min_width = 1,\n",
    "    line_step = 1.0,\n",
    "    showgrid = False,\n",
    "    title = '<b>b)</b>',\n",
    "    legend_title = None,\n",
    ")\n",
    "\n",
    "# formatting\n",
    "fig.update_layout(\n",
    "    title=dict(\n",
    "        font=dict(size=24)\n",
    "    ),\n",
    "    title_x=0.1,\n",
    "    title_y=0.9,\n",
    "    legend=dict(\n",
    "        yanchor=\"top\",\n",
    "        y=1.1,\n",
    "        xanchor=\"center\",\n",
    "        x=0.5,\n",
    "        orientation=\"h\",\n",
    "    ),\n",
    ")\n",
    "\n",
    "fig.write_html('../outputs/figures/map_capacity_planned.html')\n",
    "plotly.io.write_image(fig, '../outputs/figures/map_capacity_planned.pdf', format='pdf')\n",
    "\n",
    "fig.show()"
   ]
  },
  {
   "cell_type": "code",
   "execution_count": null,
   "metadata": {},
   "outputs": [],
   "source": []
  },
  {
   "cell_type": "code",
   "execution_count": null,
   "metadata": {},
   "outputs": [],
   "source": [
    "fig,nodes,lines = db_plots.map_transmission_lines(\n",
    "    bins = [0,1,5,10,25],\n",
    "    labels = ['0-1','1-5','5-10','10-25'],\n",
    "    planned_capacity = False,\n",
    "    node_size = 4,\n",
    "    colours = {\n",
    "        'node' : 'teal',\n",
    "        'landcolor' : 'oldlace',\n",
    "        'borders' : 'lightgray',\n",
    "        'oceancolor' : 'white',\n",
    "        'line_existing' : 'lightcoral',\n",
    "        'line_planned' : 'navy',\n",
    "    },\n",
    "    line_min_width = 1,\n",
    "    line_step = 1.0,\n",
    "    showgrid = False,\n",
    "    title = '<b>a)</b>',\n",
    "    legend_title = None,\n",
    ")\n",
    "\n",
    "# formatting\n",
    "fig.update_layout(\n",
    "    title=dict(\n",
    "        font=dict(size=24)\n",
    "    ),\n",
    "    title_x=0.1,\n",
    "    title_y=0.9,\n",
    "    legend=dict(\n",
    "        yanchor=\"top\",\n",
    "        y=1.1,\n",
    "        xanchor=\"center\",\n",
    "        x=0.5,\n",
    "        orientation=\"h\",\n",
    "    ),\n",
    ")\n",
    "\n",
    "fig.write_html('../outputs/figures/map_capacity_existing.html')\n",
    "plotly.io.write_image(fig, '../outputs/figures/map_capacity_existing.pdf', format='pdf')\n",
    "\n",
    "fig.show()"
   ]
  },
  {
   "cell_type": "code",
   "execution_count": null,
   "metadata": {},
   "outputs": [],
   "source": [
    "f = db_plots.network_topology(\n",
    "    by='subregion',\n",
    "    node_size=1800,\n",
    "    figsize = (12,6)\n",
    ")\n",
    "\n",
    "f.savefig(\n",
    "    fname = '../outputs/figures/nx_network_topology.pdf',\n",
    "    bbox_inches = 'tight',\n",
    ")"
   ]
  },
  {
   "cell_type": "code",
   "execution_count": null,
   "metadata": {},
   "outputs": [],
   "source": []
  },
  {
   "cell_type": "code",
   "execution_count": null,
   "metadata": {},
   "outputs": [],
   "source": [
    "import math\n",
    "import pandas as pd\n",
    "import networkx as nx\n",
    "import matplotlib.pyplot as plt\n",
    "\n",
    "from matplotlib.lines import Line2D\n",
    "\n",
    "by = 'subregion'\n",
    "figsize = (10,5)\n",
    "jitter = 1\n",
    "colours = {'planned' : 'lightblue', 'existing' : 'orange'}\n",
    "font_size=3,\n",
    "font_color='white'\n",
    "node_size=1500,\n",
    "#figsize=(8,8)\n",
    "legend_scale=1\n",
    "\n",
    "df = db_plots.df.get_interregional_capacity(by=by).reset_index().copy()\n",
    "\n",
    "# rename columns\n",
    "renaming = {\n",
    "    'Northern' : 'North',\n",
    "    'Eastern' : 'East',\n",
    "    'South-eastern' : 'Southeast',\n",
    "    'Southern' : 'South',\n",
    "    'Western' : 'West',\n",
    "}\n",
    "\n",
    "for k in renaming.keys():\n",
    "    df['from'] = df['from'].str.replace(k, renaming[k])\n",
    "    df['to'] = df['to'].str.replace(k, renaming[k])\n",
    "\n",
    "# change from/to for labels\n",
    "df['from'] = df['from'].str.replace(' ','\\n')\n",
    "df['to'] = df['to'].str.replace(' ','\\n')\n",
    "\n",
    "# add source/target\n",
    "df['source'] = df['from']\n",
    "df['target'] = df['to']\n",
    "\n",
    "# add existing to planned\n",
    "#df['planned'] = df['existing'] + df['planned']\n",
    "\n",
    "# sort\n",
    "df = df.sort_values(by='target')\n",
    "\n",
    "# categorise edges\n",
    "bins = [0,0.0001,1,5,10,15]\n",
    "labels = ['0','0-1','1-5','5-10','10-15']\n",
    "widths = [0,1,4,6,10]\n",
    "\n",
    "# bin capacities\n",
    "def bin_capacities(df,series):\n",
    "\n",
    "    df[f'{series}_bin'] = pd.cut(\n",
    "        df[series].divide(1e3), \n",
    "        bins=bins, \n",
    "        labels=labels,\n",
    "        right=False,\n",
    "    )\n",
    "\n",
    "    for i, bin in enumerate(labels):\n",
    "        df.loc[ df[f'{series}_bin'] == bin, f'{series}_width' ] = widths[i]\n",
    "    \n",
    "    return df\n",
    "\n",
    "df = bin_capacities(df,series='existing')\n",
    "df = bin_capacities(df,series='planned')\n",
    "\n",
    "\n",
    "G = nx.from_pandas_edgelist(\n",
    "    df,\n",
    "    edge_attr=[\"existing_width\", \"planned_width\"],\n",
    "    create_using=nx.MultiGraph(),\n",
    ")\n",
    "\n",
    "# init figure\n",
    "fig, ax = plt.subplots(\n",
    "    nrows=1,\n",
    "    ncols=2,\n",
    "    figsize=figsize,\n",
    ") \n",
    "\n",
    "# positions\n",
    "pos = nx.circular_layout(G)\n",
    "nx.set_node_attributes(G, pos, 'pos')\n",
    "\n",
    "# nodes\n",
    "for i in [0,1]:\n",
    "\n",
    "    # draw nodes\n",
    "    nx.draw_networkx_nodes(\n",
    "        G, \n",
    "        pos, \n",
    "        node_size=node_size,\n",
    "        node_color='teal',\n",
    "        alpha=1,\n",
    "        ax=ax[i],\n",
    "    )\n",
    "\n",
    "    # node labels\n",
    "    nodelist = G.nodes()\n",
    "\n",
    "    nx.draw_networkx_labels(\n",
    "        G, \n",
    "        pos,\n",
    "        labels=dict(zip(nodelist,nodelist)),\n",
    "        font_color=font_color,\n",
    "        font_size=6,\n",
    "        ax=ax[i],\n",
    "    )\n",
    "\n",
    "# edges (existing)\n",
    "edgewidth = [ d['existing_width'] for (u,v,d) in G.edges(data=True)]\n",
    "\n",
    "nx.draw_networkx_edges(\n",
    "    G, \n",
    "    pos, \n",
    "    width=edgewidth,\n",
    "    edge_color=colours['existing'],\n",
    "    alpha=1,\n",
    "    ax=ax[0],\n",
    ")\n",
    "\n",
    "# edges (planned)\n",
    "edgewidth = [ d['planned_width'] for (u,v,d) in G.edges(data=True)]\n",
    "\n",
    "nx.draw_networkx_edges(\n",
    "    G, \n",
    "    pos, \n",
    "    width=edgewidth,\n",
    "    edge_color=colours['planned'],\n",
    "    alpha=1,\n",
    "    ax=ax[1],\n",
    ")\n",
    "\n",
    "# formatting\n",
    "ax[0].set_title(\n",
    "    'a)',\n",
    "    fontsize=14,\n",
    "    fontweight='bold',\n",
    "    loc='left',\n",
    ")\n",
    "\n",
    "ax[1].set_title(\n",
    "    'b)',\n",
    "    fontsize=14,\n",
    "    fontweight='bold',\n",
    "    loc='left',\n",
    ")\n",
    "\n",
    "# legend\n",
    "legend_elements = []\n",
    "\n",
    "legend_labels = {}\n",
    "for i, w in enumerate(widths):\n",
    "    legend_labels[w] = labels[i]\n",
    "\n",
    "for i, width in enumerate(widths):\n",
    "    legend_elements.append(\n",
    "        Line2D(\n",
    "            [0], \n",
    "            [0], \n",
    "            color='darkgray', \n",
    "            lw=width, \n",
    "            label=f'{legend_labels[width]} GW')\n",
    "    )\n",
    "\n",
    "plt.legend(\n",
    "    handles=legend_elements, \n",
    "    loc='center', \n",
    "    prop={\n",
    "        'size': 10\n",
    "    }, \n",
    "    frameon=True,\n",
    "    ncol=10,\n",
    "    bbox_to_anchor=(0, -0.1),\n",
    ")\n",
    "\n",
    "# frame\n",
    "#plt.box(False)"
   ]
  },
  {
   "cell_type": "code",
   "execution_count": null,
   "metadata": {},
   "outputs": [],
   "source": [
    "df"
   ]
  },
  {
   "cell_type": "code",
   "execution_count": null,
   "metadata": {},
   "outputs": [],
   "source": [
    "df[f'{series}_bin'].unique()"
   ]
  },
  {
   "cell_type": "code",
   "execution_count": null,
   "metadata": {},
   "outputs": [],
   "source": [
    "df"
   ]
  },
  {
   "cell_type": "code",
   "execution_count": null,
   "metadata": {},
   "outputs": [],
   "source": []
  }
 ],
 "metadata": {
  "kernelspec": {
   "display_name": "Python 3 (ipykernel)",
   "language": "python",
   "name": "python3"
  },
  "language_info": {
   "codemirror_mode": {
    "name": "ipython",
    "version": 3
   },
   "file_extension": ".py",
   "mimetype": "text/x-python",
   "name": "python",
   "nbconvert_exporter": "python",
   "pygments_lexer": "ipython3",
   "version": "3.12.0"
  }
 },
 "nbformat": 4,
 "nbformat_minor": 4
}

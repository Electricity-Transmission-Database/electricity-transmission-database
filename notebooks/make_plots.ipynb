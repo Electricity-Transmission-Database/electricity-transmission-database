{
 "cells": [
  {
   "cell_type": "code",
   "execution_count": 1,
   "metadata": {},
   "outputs": [],
   "source": [
    "from src.dataviz import DatabasePlots"
   ]
  },
  {
   "cell_type": "code",
   "execution_count": 2,
   "metadata": {},
   "outputs": [],
   "source": [
    "db_plots = DatabasePlots()"
   ]
  },
  {
   "cell_type": "code",
   "execution_count": 3,
   "metadata": {},
   "outputs": [
    {
     "data": {
      "text/html": [
       "<div>\n",
       "<style scoped>\n",
       "    .dataframe tbody tr th:only-of-type {\n",
       "        vertical-align: middle;\n",
       "    }\n",
       "\n",
       "    .dataframe tbody tr th {\n",
       "        vertical-align: top;\n",
       "    }\n",
       "\n",
       "    .dataframe thead th {\n",
       "        text-align: right;\n",
       "    }\n",
       "</style>\n",
       "<table border=\"1\" class=\"dataframe\">\n",
       "  <thead>\n",
       "    <tr style=\"text-align: right;\">\n",
       "      <th></th>\n",
       "      <th>node</th>\n",
       "      <th>node_verbose</th>\n",
       "      <th>country</th>\n",
       "      <th>region</th>\n",
       "      <th>subregion</th>\n",
       "      <th>geometry</th>\n",
       "    </tr>\n",
       "  </thead>\n",
       "  <tbody>\n",
       "    <tr>\n",
       "      <th>0</th>\n",
       "      <td>AFG-XX</td>\n",
       "      <td>Afghanistan</td>\n",
       "      <td>Afghanistan</td>\n",
       "      <td>Asia</td>\n",
       "      <td>Southern Asia</td>\n",
       "      <td>POINT (66.03059 33.82888)</td>\n",
       "    </tr>\n",
       "    <tr>\n",
       "      <th>1</th>\n",
       "      <td>AGO-XX</td>\n",
       "      <td>Angola</td>\n",
       "      <td>Angola</td>\n",
       "      <td>Africa</td>\n",
       "      <td>Sub-Saharan Africa</td>\n",
       "      <td>POINT (17.57616 -12.33727)</td>\n",
       "    </tr>\n",
       "    <tr>\n",
       "      <th>2</th>\n",
       "      <td>ALB-XX</td>\n",
       "      <td>Albania</td>\n",
       "      <td>Albania</td>\n",
       "      <td>Europe</td>\n",
       "      <td>Southern Europe</td>\n",
       "      <td>POINT (20.06196 41.14084)</td>\n",
       "    </tr>\n",
       "    <tr>\n",
       "      <th>3</th>\n",
       "      <td>ARE-XX</td>\n",
       "      <td>United Arab Emirates</td>\n",
       "      <td>United Arab Emirates</td>\n",
       "      <td>Asia</td>\n",
       "      <td>Western Asia</td>\n",
       "      <td>POINT (54.33630 23.90734)</td>\n",
       "    </tr>\n",
       "    <tr>\n",
       "      <th>4</th>\n",
       "      <td>ARG-XX</td>\n",
       "      <td>Argentina</td>\n",
       "      <td>Argentina</td>\n",
       "      <td>Americas</td>\n",
       "      <td>Latin America and the Caribbean</td>\n",
       "      <td>POINT (-65.14102 -35.18534)</td>\n",
       "    </tr>\n",
       "  </tbody>\n",
       "</table>\n",
       "</div>"
      ],
      "text/plain": [
       "     node          node_verbose               country    region  \\\n",
       "0  AFG-XX           Afghanistan           Afghanistan      Asia   \n",
       "1  AGO-XX                Angola                Angola    Africa   \n",
       "2  ALB-XX               Albania               Albania    Europe   \n",
       "3  ARE-XX  United Arab Emirates  United Arab Emirates      Asia   \n",
       "4  ARG-XX             Argentina             Argentina  Americas   \n",
       "\n",
       "                         subregion                     geometry  \n",
       "0                    Southern Asia    POINT (66.03059 33.82888)  \n",
       "1               Sub-Saharan Africa   POINT (17.57616 -12.33727)  \n",
       "2                  Southern Europe    POINT (20.06196 41.14084)  \n",
       "3                     Western Asia    POINT (54.33630 23.90734)  \n",
       "4  Latin America and the Caribbean  POINT (-65.14102 -35.18534)  "
      ]
     },
     "execution_count": 3,
     "metadata": {},
     "output_type": "execute_result"
    }
   ],
   "source": [
    "db_plots.df.CENTRE_POINTS.head(5)"
   ]
  },
  {
   "cell_type": "code",
   "execution_count": 4,
   "metadata": {},
   "outputs": [
    {
     "data": {
      "text/html": [
       "<div>\n",
       "<style scoped>\n",
       "    .dataframe tbody tr th:only-of-type {\n",
       "        vertical-align: middle;\n",
       "    }\n",
       "\n",
       "    .dataframe tbody tr th {\n",
       "        vertical-align: top;\n",
       "    }\n",
       "\n",
       "    .dataframe thead th {\n",
       "        text-align: right;\n",
       "    }\n",
       "</style>\n",
       "<table border=\"1\" class=\"dataframe\">\n",
       "  <thead>\n",
       "    <tr style=\"text-align: right;\">\n",
       "      <th></th>\n",
       "      <th>from</th>\n",
       "      <th>to</th>\n",
       "      <th>existing capacity + (mw)</th>\n",
       "      <th>existing capacity - (mw)</th>\n",
       "      <th>planned capacity + (mw)</th>\n",
       "      <th>planned capacity - (mw)</th>\n",
       "      <th>year planned</th>\n",
       "      <th>assumptions/applied methods</th>\n",
       "      <th>other notes</th>\n",
       "      <th>source existing (2023)</th>\n",
       "      <th>source planned</th>\n",
       "    </tr>\n",
       "  </thead>\n",
       "  <tbody>\n",
       "    <tr>\n",
       "      <th>0</th>\n",
       "      <td>AFG-XX</td>\n",
       "      <td>CHN-XI</td>\n",
       "      <td>0.0</td>\n",
       "      <td>0.0</td>\n",
       "      <td>0.0</td>\n",
       "      <td>0.0</td>\n",
       "      <td>NaN</td>\n",
       "      <td>NaN</td>\n",
       "      <td>Afghanistan had joined China's Belt and Road i...</td>\n",
       "      <td>https://iea.blob.core.windows.net/assets/b066e...</td>\n",
       "      <td>https://www.reuters.com/world/asia-pacific/tal...</td>\n",
       "    </tr>\n",
       "    <tr>\n",
       "      <th>1</th>\n",
       "      <td>AFG-XX</td>\n",
       "      <td>IRN-XX</td>\n",
       "      <td>175.0</td>\n",
       "      <td>-175.0</td>\n",
       "      <td>325.0</td>\n",
       "      <td>-325.0</td>\n",
       "      <td>NaN</td>\n",
       "      <td>It's reported that as of 2022 trade potential ...</td>\n",
       "      <td>NaN</td>\n",
       "      <td>https://www.tehrantimes.com/news/468852/Iran-e...</td>\n",
       "      <td>https://www.tehrantimes.com/news/468852/Iran-e...</td>\n",
       "    </tr>\n",
       "    <tr>\n",
       "      <th>2</th>\n",
       "      <td>AFG-XX</td>\n",
       "      <td>PAK-XX</td>\n",
       "      <td>0.0</td>\n",
       "      <td>0.0</td>\n",
       "      <td>0.0</td>\n",
       "      <td>0.0</td>\n",
       "      <td>NaN</td>\n",
       "      <td>NaN</td>\n",
       "      <td>Following the specifics of the CASA-1000 proje...</td>\n",
       "      <td>https://iea.blob.core.windows.net/assets/b066e...</td>\n",
       "      <td>https://iea.blob.core.windows.net/assets/b066e...</td>\n",
       "    </tr>\n",
       "    <tr>\n",
       "      <th>3</th>\n",
       "      <td>AFG-XX</td>\n",
       "      <td>TKM-XX</td>\n",
       "      <td>0.0</td>\n",
       "      <td>-400.0</td>\n",
       "      <td>1000.0</td>\n",
       "      <td>-1000.0</td>\n",
       "      <td>NaN</td>\n",
       "      <td>NaN</td>\n",
       "      <td>Currently a trade agreement of 400 MW for unil...</td>\n",
       "      <td>https://iea.blob.core.windows.net/assets/b066e...</td>\n",
       "      <td>https://pajhwok.com/2023/01/29/power-supply-pr...</td>\n",
       "    </tr>\n",
       "    <tr>\n",
       "      <th>4</th>\n",
       "      <td>ARE-XX</td>\n",
       "      <td>IND-WE</td>\n",
       "      <td>0.0</td>\n",
       "      <td>0.0</td>\n",
       "      <td>0.0</td>\n",
       "      <td>0.0</td>\n",
       "      <td>NaN</td>\n",
       "      <td>NaN</td>\n",
       "      <td>No capacity as of yet, but a subsea transmissi...</td>\n",
       "      <td>https://openinframap.org/#4.16/20.3/63.43</td>\n",
       "      <td>https://www.siasat.com/india-planning-power-gr...</td>\n",
       "    </tr>\n",
       "  </tbody>\n",
       "</table>\n",
       "</div>"
      ],
      "text/plain": [
       "     from      to  existing capacity + (mw)  existing capacity - (mw)  \\\n",
       "0  AFG-XX  CHN-XI                       0.0                       0.0   \n",
       "1  AFG-XX  IRN-XX                     175.0                    -175.0   \n",
       "2  AFG-XX  PAK-XX                       0.0                       0.0   \n",
       "3  AFG-XX  TKM-XX                       0.0                    -400.0   \n",
       "4  ARE-XX  IND-WE                       0.0                       0.0   \n",
       "\n",
       "   planned capacity + (mw)  planned capacity - (mw)  year planned  \\\n",
       "0                      0.0                      0.0           NaN   \n",
       "1                    325.0                   -325.0           NaN   \n",
       "2                      0.0                      0.0           NaN   \n",
       "3                   1000.0                  -1000.0           NaN   \n",
       "4                      0.0                      0.0           NaN   \n",
       "\n",
       "                         assumptions/applied methods  \\\n",
       "0                                                NaN   \n",
       "1  It's reported that as of 2022 trade potential ...   \n",
       "2                                                NaN   \n",
       "3                                                NaN   \n",
       "4                                                NaN   \n",
       "\n",
       "                                         other notes  \\\n",
       "0  Afghanistan had joined China's Belt and Road i...   \n",
       "1                                                NaN   \n",
       "2  Following the specifics of the CASA-1000 proje...   \n",
       "3  Currently a trade agreement of 400 MW for unil...   \n",
       "4  No capacity as of yet, but a subsea transmissi...   \n",
       "\n",
       "                              source existing (2023)  \\\n",
       "0  https://iea.blob.core.windows.net/assets/b066e...   \n",
       "1  https://www.tehrantimes.com/news/468852/Iran-e...   \n",
       "2  https://iea.blob.core.windows.net/assets/b066e...   \n",
       "3  https://iea.blob.core.windows.net/assets/b066e...   \n",
       "4          https://openinframap.org/#4.16/20.3/63.43   \n",
       "\n",
       "                                      source planned  \n",
       "0  https://www.reuters.com/world/asia-pacific/tal...  \n",
       "1  https://www.tehrantimes.com/news/468852/Iran-e...  \n",
       "2  https://iea.blob.core.windows.net/assets/b066e...  \n",
       "3  https://pajhwok.com/2023/01/29/power-supply-pr...  \n",
       "4  https://www.siasat.com/india-planning-power-gr...  "
      ]
     },
     "execution_count": 4,
     "metadata": {},
     "output_type": "execute_result"
    }
   ],
   "source": [
    "db_plots.df.DATABASE.head(5)"
   ]
  },
  {
   "cell_type": "code",
   "execution_count": 5,
   "metadata": {},
   "outputs": [
    {
     "ename": "NameError",
     "evalue": "name 'df' is not defined",
     "output_type": "error",
     "traceback": [
      "\u001b[0;31m---------------------------------------------------------------------------\u001b[0m",
      "\u001b[0;31mNameError\u001b[0m                                 Traceback (most recent call last)",
      "\u001b[1;32m/Users/aman/Library/CloudStorage/GoogleDrive-aman.m@transitionzero.org/My Drive/electricity_transmission_database/notebooks/make_plots.ipynb Cell 5\u001b[0m line \u001b[0;36m1\n\u001b[0;32m----> <a href='vscode-notebook-cell:/Users/aman/Library/CloudStorage/GoogleDrive-aman.m%40transitionzero.org/My%20Drive/electricity_transmission_database/notebooks/make_plots.ipynb#W4sZmlsZQ%3D%3D?line=0'>1</a>\u001b[0m fig \u001b[39m=\u001b[39m db_plots\u001b[39m.\u001b[39;49mmap_excluded_regions(\n\u001b[1;32m      <a href='vscode-notebook-cell:/Users/aman/Library/CloudStorage/GoogleDrive-aman.m%40transitionzero.org/My%20Drive/electricity_transmission_database/notebooks/make_plots.ipynb#W4sZmlsZQ%3D%3D?line=1'>2</a>\u001b[0m     showgrid\u001b[39m=\u001b[39;49m\u001b[39mTrue\u001b[39;49;00m\n\u001b[1;32m      <a href='vscode-notebook-cell:/Users/aman/Library/CloudStorage/GoogleDrive-aman.m%40transitionzero.org/My%20Drive/electricity_transmission_database/notebooks/make_plots.ipynb#W4sZmlsZQ%3D%3D?line=2'>3</a>\u001b[0m )\n\u001b[1;32m      <a href='vscode-notebook-cell:/Users/aman/Library/CloudStorage/GoogleDrive-aman.m%40transitionzero.org/My%20Drive/electricity_transmission_database/notebooks/make_plots.ipynb#W4sZmlsZQ%3D%3D?line=4'>5</a>\u001b[0m fig\u001b[39m.\u001b[39mwrite_html(\u001b[39m'\u001b[39m\u001b[39m../outputs/figures/map_excluded_regions.html\u001b[39m\u001b[39m'\u001b[39m)\n\u001b[1;32m      <a href='vscode-notebook-cell:/Users/aman/Library/CloudStorage/GoogleDrive-aman.m%40transitionzero.org/My%20Drive/electricity_transmission_database/notebooks/make_plots.ipynb#W4sZmlsZQ%3D%3D?line=5'>6</a>\u001b[0m fig\u001b[39m.\u001b[39mshow()\n",
      "File \u001b[0;32m~/miniconda3/envs/global_transmission_database/lib/python3.12/site-packages/src/dataviz.py:232\u001b[0m, in \u001b[0;36mDatabasePlots.map_excluded_regions\u001b[0;34m(self, showgrid, colours, **kwargs)\u001b[0m\n\u001b[1;32m    222\u001b[0m \u001b[39m# make fig\u001b[39;00m\n\u001b[1;32m    223\u001b[0m fig \u001b[39m=\u001b[39m px\u001b[39m.\u001b[39mchoropleth(\n\u001b[1;32m    224\u001b[0m     \u001b[39mself\u001b[39m\u001b[39m.\u001b[39mdf\u001b[39m.\u001b[39mINCLUDED_REGIONS, \n\u001b[1;32m    225\u001b[0m     locations\u001b[39m=\u001b[39m\u001b[39m\"\u001b[39m\u001b[39malpha-3\u001b[39m\u001b[39m\"\u001b[39m,\n\u001b[0;32m   (...)\u001b[0m\n\u001b[1;32m    228\u001b[0m     color_discrete_map\u001b[39m=\u001b[39mcolours,\n\u001b[1;32m    229\u001b[0m )\n\u001b[1;32m    231\u001b[0m fig \u001b[39m=\u001b[39m px\u001b[39m.\u001b[39mchoropleth(\n\u001b[0;32m--> 232\u001b[0m     df,\n\u001b[1;32m    233\u001b[0m     geojson\u001b[39m=\u001b[39mdf\u001b[39m.\u001b[39mgeometry,\n\u001b[1;32m    234\u001b[0m     locations\u001b[39m=\u001b[39mdf\u001b[39m.\u001b[39mindex,\n\u001b[1;32m    235\u001b[0m     color\u001b[39m=\u001b[39m\u001b[39m\"\u001b[39m\u001b[39mEXCLUDED\u001b[39m\u001b[39m\"\u001b[39m,\n\u001b[1;32m    236\u001b[0m     color_discrete_map\u001b[39m=\u001b[39mcolours,\n\u001b[1;32m    237\u001b[0m     hover_data\u001b[39m=\u001b[39m[\u001b[39m'\u001b[39m\u001b[39mregion\u001b[39m\u001b[39m'\u001b[39m,\u001b[39m'\u001b[39m\u001b[39msub-region\u001b[39m\u001b[39m'\u001b[39m],\n\u001b[1;32m    238\u001b[0m )\n\u001b[1;32m    240\u001b[0m \u001b[39m# update traces\u001b[39;00m\n\u001b[1;32m    241\u001b[0m fig\u001b[39m.\u001b[39mupdate_traces(\n\u001b[1;32m    242\u001b[0m     marker_line_color\u001b[39m=\u001b[39m\u001b[39m'\u001b[39m\u001b[39mlightgray\u001b[39m\u001b[39m'\u001b[39m,\n\u001b[1;32m    243\u001b[0m     marker_line_width\u001b[39m=\u001b[39m\u001b[39m0.5\u001b[39m,\n\u001b[0;32m   (...)\u001b[0m\n\u001b[1;32m    248\u001b[0m     \u001b[39m# ])\u001b[39;00m\n\u001b[1;32m    249\u001b[0m )\n",
      "\u001b[0;31mNameError\u001b[0m: name 'df' is not defined"
     ]
    }
   ],
   "source": [
    "fig = db_plots.map_excluded_regions(\n",
    "    showgrid=True\n",
    ")\n",
    "\n",
    "fig.write_html('../outputs/figures/map_excluded_regions.html')\n",
    "fig.show()"
   ]
  },
  {
   "cell_type": "code",
   "execution_count": null,
   "metadata": {},
   "outputs": [],
   "source": [
    "fig,nodes,lines = db_plots.map_transmission_lines(\n",
    "    bins = [0,1,5,10,25],\n",
    "    labels = ['0-1','1-5','5-10','10-25'],\n",
    "    planned_capacity=True,\n",
    "    node_size=4,\n",
    ")\n",
    "\n",
    "fig.write_html('../outputs/figures/map_capacity_planned.html')\n",
    "fig.show()"
   ]
  },
  {
   "cell_type": "code",
   "execution_count": null,
   "metadata": {},
   "outputs": [],
   "source": []
  },
  {
   "cell_type": "code",
   "execution_count": null,
   "metadata": {},
   "outputs": [],
   "source": [
    "fig,nodes,lines = db_plots.map_transmission_lines(\n",
    "    bins = [0,1,5,10,25],\n",
    "    labels = ['0-1','1-5','5-10','10-25'],\n",
    "    planned_capacity=False,\n",
    "    node_size=4,\n",
    "    #title='A',\n",
    ")\n",
    "\n",
    "fig.write_html('../outputs/figures/map_capacity_existing.html')\n",
    "fig.show()"
   ]
  },
  {
   "cell_type": "code",
   "execution_count": null,
   "metadata": {},
   "outputs": [],
   "source": [
    "f = db_plots.network_topology(\n",
    "    by='subregion',\n",
    "    jitter=100,\n",
    "    node_size=1500,\n",
    "    font_size=5,\n",
    "    legend_scale=1.2,\n",
    "    figsize=(8,8),\n",
    ")\n",
    "\n",
    "f.savefig(\n",
    "    fname = '../outputs/figures/nx_network_topology.pdf',\n",
    "    bbox_inches = 'tight',\n",
    ")"
   ]
  },
  {
   "cell_type": "code",
   "execution_count": null,
   "metadata": {},
   "outputs": [],
   "source": []
  },
  {
   "cell_type": "code",
   "execution_count": null,
   "metadata": {},
   "outputs": [],
   "source": []
  },
  {
   "cell_type": "code",
   "execution_count": null,
   "metadata": {},
   "outputs": [],
   "source": []
  },
  {
   "cell_type": "code",
   "execution_count": null,
   "metadata": {},
   "outputs": [],
   "source": []
  },
  {
   "cell_type": "code",
   "execution_count": null,
   "metadata": {},
   "outputs": [],
   "source": []
  },
  {
   "cell_type": "code",
   "execution_count": null,
   "metadata": {},
   "outputs": [],
   "source": []
  },
  {
   "cell_type": "code",
   "execution_count": null,
   "metadata": {},
   "outputs": [],
   "source": []
  },
  {
   "cell_type": "code",
   "execution_count": null,
   "metadata": {},
   "outputs": [],
   "source": [
    "regions = list(set( db_plots.df.DATABASE['from'].str[0:3].unique().tolist() + db_plots.df.DATABASE['to'].str[0:3].unique().tolist() ))\n",
    "\n",
    "included_regions = db_plots.df._iso_codes[['name','alpha-3','region','sub-region']].copy()\n",
    "\n",
    "for i in included_regions['alpha-3']:\n",
    "    if i in regions:\n",
    "        included_regions.loc[\n",
    "            included_regions['alpha-3'] == i, 'Included'\n",
    "        ] = 'True'\n",
    "    else:\n",
    "        included_regions.loc[\n",
    "            included_regions['alpha-3'] == i, 'Included'\n",
    "        ] = 'False'\n",
    "\n",
    "included_regions"
   ]
  },
  {
   "cell_type": "code",
   "execution_count": null,
   "metadata": {},
   "outputs": [],
   "source": [
    "import pandas as pd\n",
    "import plotly.express as px\n",
    "\n",
    "fig = px.choropleth(\n",
    "    included_regions, \n",
    "    locations=\"alpha-3\",\n",
    "    color=\"Included\", \n",
    "    hover_name=\"name\", \n",
    "    hover_data=['region','sub-region']\n",
    ")\n",
    "\n",
    "fig.show()"
   ]
  },
  {
   "cell_type": "code",
   "execution_count": null,
   "metadata": {},
   "outputs": [],
   "source": [
    "import plotly.express as px\n",
    "\n",
    "df = px.data.gapminder().query(\"year==2007\")\n",
    "fig = px.choropleth(df, locations=\"iso_alpha\",\n",
    "                    color=\"lifeExp\", # lifeExp is a column of gapminder\n",
    "                    hover_name=\"country\", # column to add to hover information\n",
    "                    color_continuous_scale=px.colors.sequential.Plasma)\n",
    "fig.show()"
   ]
  },
  {
   "cell_type": "code",
   "execution_count": null,
   "metadata": {},
   "outputs": [],
   "source": [
    "df"
   ]
  },
  {
   "cell_type": "code",
   "execution_count": null,
   "metadata": {},
   "outputs": [],
   "source": []
  },
  {
   "cell_type": "code",
   "execution_count": null,
   "metadata": {},
   "outputs": [],
   "source": []
  },
  {
   "cell_type": "code",
   "execution_count": null,
   "metadata": {},
   "outputs": [],
   "source": []
  },
  {
   "cell_type": "code",
   "execution_count": null,
   "metadata": {},
   "outputs": [],
   "source": []
  },
  {
   "cell_type": "code",
   "execution_count": null,
   "metadata": {},
   "outputs": [],
   "source": []
  },
  {
   "cell_type": "code",
   "execution_count": null,
   "metadata": {},
   "outputs": [],
   "source": []
  }
 ],
 "metadata": {
  "kernelspec": {
   "display_name": "pypsa-usa",
   "language": "python",
   "name": "python3"
  },
  "language_info": {
   "codemirror_mode": {
    "name": "ipython",
    "version": 3
   },
   "file_extension": ".py",
   "mimetype": "text/x-python",
   "name": "python",
   "nbconvert_exporter": "python",
   "pygments_lexer": "ipython3",
   "version": "3.12.0"
  }
 },
 "nbformat": 4,
 "nbformat_minor": 2
}

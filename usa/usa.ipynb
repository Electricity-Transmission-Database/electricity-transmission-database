{
 "cells": [
  {
   "cell_type": "markdown",
   "metadata": {},
   "source": [
    "# USA Data Processing\n",
    "This notebook processes historical balancing authority data to estimate transmission line capacity between regions"
   ]
  },
  {
   "cell_type": "code",
   "execution_count": 15,
   "metadata": {},
   "outputs": [],
   "source": [
    "import pandas as pd \n",
    "import geopandas as gpd\n",
    "import numpy as np\n",
    "from shapely.geometry import Point\n",
    "from itertools import permutations, combinations\n",
    "import matplotlib.pyplot as plt\n",
    "import requests\n",
    "from pathlib import Path\n",
    "import zipfile"
   ]
  },
  {
   "cell_type": "markdown",
   "metadata": {},
   "source": [
    "## Helper Functions"
   ]
  },
  {
   "cell_type": "code",
   "execution_count": 2,
   "metadata": {},
   "outputs": [],
   "source": [
    "def download_file(url: str, destination: str):\n",
    "    response = requests.get(url)\n",
    "    \n",
    "    if response.status_code == 200:\n",
    "        with open(destination, 'wb') as file:\n",
    "            file.write(response.content)\n",
    "        print(f\"File downloaded successfully to {destination}\")\n",
    "    else:\n",
    "        print(f\"Failed to download file. Status code: {response.status_code}\")"
   ]
  },
  {
   "cell_type": "code",
   "execution_count": 3,
   "metadata": {},
   "outputs": [],
   "source": [
    "def file_exists(file_path: str):\n",
    "    path = Path(file_path)\n",
    "    return path.is_file()"
   ]
  },
  {
   "cell_type": "code",
   "execution_count": 16,
   "metadata": {},
   "outputs": [],
   "source": [
    "def extract_zip(zip_file_path: str, extract_to: str):\n",
    "    with zipfile.ZipFile(zip_file_path, 'r') as zip_ref:\n",
    "        zip_ref.extractall(extract_to)\n",
    "    print(f\"Zip file '{zip_file_path}' extracted successfully to '{extract_to}'\")"
   ]
  },
  {
   "cell_type": "markdown",
   "metadata": {},
   "source": [
    "## Get Balancing Authority Shapes \n",
    "Shapes are taken from [Electricity Maps](https://github.com/electricitymaps/electricitymaps-contrib/blob/master/web/geo/world.geojson), as they have a spatially resolved file (ie. no overlaps between balancing authorities)"
   ]
  },
  {
   "cell_type": "code",
   "execution_count": 13,
   "metadata": {},
   "outputs": [
    {
     "name": "stdout",
     "output_type": "stream",
     "text": [
      "File downloaded successfully to world.geojson\n"
     ]
    },
    {
     "data": {
      "text/html": [
       "<div>\n",
       "<style scoped>\n",
       "    .dataframe tbody tr th:only-of-type {\n",
       "        vertical-align: middle;\n",
       "    }\n",
       "\n",
       "    .dataframe tbody tr th {\n",
       "        vertical-align: top;\n",
       "    }\n",
       "\n",
       "    .dataframe thead th {\n",
       "        text-align: right;\n",
       "    }\n",
       "</style>\n",
       "<table border=\"1\" class=\"dataframe\">\n",
       "  <thead>\n",
       "    <tr style=\"text-align: right;\">\n",
       "      <th></th>\n",
       "      <th>zoneName</th>\n",
       "      <th>countryKey</th>\n",
       "      <th>countryName</th>\n",
       "      <th>geometry</th>\n",
       "    </tr>\n",
       "  </thead>\n",
       "  <tbody>\n",
       "    <tr>\n",
       "      <th>287</th>\n",
       "      <td>US-AK</td>\n",
       "      <td>US</td>\n",
       "      <td>United States</td>\n",
       "      <td>MULTIPOLYGON (((-139.06039 59.99977, -139.1827...</td>\n",
       "    </tr>\n",
       "    <tr>\n",
       "      <th>288</th>\n",
       "      <td>US-CAL-BANC</td>\n",
       "      <td>US</td>\n",
       "      <td>United States</td>\n",
       "      <td>MULTIPOLYGON (((-123.03663 40.36388, -122.6946...</td>\n",
       "    </tr>\n",
       "    <tr>\n",
       "      <th>289</th>\n",
       "      <td>US-CAL-CISO</td>\n",
       "      <td>US</td>\n",
       "      <td>United States</td>\n",
       "      <td>MULTIPOLYGON (((-123.39303 41.16099, -123.4794...</td>\n",
       "    </tr>\n",
       "    <tr>\n",
       "      <th>290</th>\n",
       "      <td>US-CAL-IID</td>\n",
       "      <td>US</td>\n",
       "      <td>United States</td>\n",
       "      <td>MULTIPOLYGON (((-114.75544 32.64156, -114.5261...</td>\n",
       "    </tr>\n",
       "    <tr>\n",
       "      <th>291</th>\n",
       "      <td>US-CAL-LDWP</td>\n",
       "      <td>US</td>\n",
       "      <td>United States</td>\n",
       "      <td>MULTIPOLYGON (((-118.65899 34.16872, -118.3961...</td>\n",
       "    </tr>\n",
       "  </tbody>\n",
       "</table>\n",
       "</div>"
      ],
      "text/plain": [
       "        zoneName countryKey    countryName  \\\n",
       "287        US-AK         US  United States   \n",
       "288  US-CAL-BANC         US  United States   \n",
       "289  US-CAL-CISO         US  United States   \n",
       "290   US-CAL-IID         US  United States   \n",
       "291  US-CAL-LDWP         US  United States   \n",
       "\n",
       "                                              geometry  \n",
       "287  MULTIPOLYGON (((-139.06039 59.99977, -139.1827...  \n",
       "288  MULTIPOLYGON (((-123.03663 40.36388, -122.6946...  \n",
       "289  MULTIPOLYGON (((-123.39303 41.16099, -123.4794...  \n",
       "290  MULTIPOLYGON (((-114.75544 32.64156, -114.5261...  \n",
       "291  MULTIPOLYGON (((-118.65899 34.16872, -118.3961...  "
      ]
     },
     "execution_count": 13,
     "metadata": {},
     "output_type": "execute_result"
    }
   ],
   "source": [
    "geojson = \"world.geojson\"\n",
    "\n",
    "if not file_exists(geojson):\n",
    "    url = \"https://raw.githubusercontent.com/electricitymaps/electricitymaps-contrib/master/web/geo/world.geojson\"\n",
    "    download_file(url, geojson)\n",
    "\n",
    "gdf = gpd.read_file(geojson)\n",
    "gdf = gdf[gdf[\"countryKey\"] == \"US\"]\n",
    "gdf.head(5)"
   ]
  },
  {
   "cell_type": "code",
   "execution_count": 14,
   "metadata": {},
   "outputs": [
    {
     "data": {
      "text/plain": [
       "<Axes: >"
      ]
     },
     "execution_count": 14,
     "metadata": {},
     "output_type": "execute_result"
    },
    {
     "data": {
      "image/png": "[encoded data removed]",
      "text/plain": [
       "<Figure size 640x480 with 1 Axes>"
      ]
     },
     "metadata": {},
     "output_type": "display_data"
    }
   ],
   "source": [
    "bas = gdf.copy()\n",
    "bas[\"region\"] = bas[\"zoneName\"].map(lambda x: x.split(\"-\")[1])\n",
    "bas = bas[~bas[\"region\"].isin([\"AK\", \"HI\"])].drop(columns=[\"region\"]) # drop alaska and hawaii\n",
    "bas.plot()"
   ]
  },
  {
   "cell_type": "markdown",
   "metadata": {},
   "source": [
    "## Get Population Data\n",
    "Population data comes from the [World Cities Database](https://simplemaps.com/data/world-cities)"
   ]
  },
  {
   "cell_type": "code",
   "execution_count": 17,
   "metadata": {},
   "outputs": [
    {
     "name": "stdout",
     "output_type": "stream",
     "text": [
      "File downloaded successfully to worldcities.zip\n",
      "Zip file 'worldcities.zip' extracted successfully to 'worldcities'\n"
     ]
    },
    {
     "data": {
      "text/html": [
       "<div>\n",
       "<style scoped>\n",
       "    .dataframe tbody tr th:only-of-type {\n",
       "        vertical-align: middle;\n",
       "    }\n",
       "\n",
       "    .dataframe tbody tr th {\n",
       "        vertical-align: top;\n",
       "    }\n",
       "\n",
       "    .dataframe thead th {\n",
       "        text-align: right;\n",
       "    }\n",
       "</style>\n",
       "<table border=\"1\" class=\"dataframe\">\n",
       "  <thead>\n",
       "    <tr style=\"text-align: right;\">\n",
       "      <th></th>\n",
       "      <th>city</th>\n",
       "      <th>city_ascii</th>\n",
       "      <th>lat</th>\n",
       "      <th>lng</th>\n",
       "      <th>country</th>\n",
       "      <th>iso2</th>\n",
       "      <th>iso3</th>\n",
       "      <th>admin_name</th>\n",
       "      <th>capital</th>\n",
       "      <th>population</th>\n",
       "      <th>id</th>\n",
       "    </tr>\n",
       "  </thead>\n",
       "  <tbody>\n",
       "    <tr>\n",
       "      <th>11</th>\n",
       "      <td>New York</td>\n",
       "      <td>New York</td>\n",
       "      <td>40.6943</td>\n",
       "      <td>-73.9249</td>\n",
       "      <td>United States</td>\n",
       "      <td>US</td>\n",
       "      <td>USA</td>\n",
       "      <td>New York</td>\n",
       "      <td>NaN</td>\n",
       "      <td>18972871.0</td>\n",
       "      <td>1840034016</td>\n",
       "    </tr>\n",
       "    <tr>\n",
       "      <th>33</th>\n",
       "      <td>Los Angeles</td>\n",
       "      <td>Los Angeles</td>\n",
       "      <td>34.1141</td>\n",
       "      <td>-118.4068</td>\n",
       "      <td>United States</td>\n",
       "      <td>US</td>\n",
       "      <td>USA</td>\n",
       "      <td>California</td>\n",
       "      <td>NaN</td>\n",
       "      <td>12121244.0</td>\n",
       "      <td>1840020491</td>\n",
       "    </tr>\n",
       "    <tr>\n",
       "      <th>55</th>\n",
       "      <td>Chicago</td>\n",
       "      <td>Chicago</td>\n",
       "      <td>41.8375</td>\n",
       "      <td>-87.6866</td>\n",
       "      <td>United States</td>\n",
       "      <td>US</td>\n",
       "      <td>USA</td>\n",
       "      <td>Illinois</td>\n",
       "      <td>NaN</td>\n",
       "      <td>8595181.0</td>\n",
       "      <td>1840000494</td>\n",
       "    </tr>\n",
       "    <tr>\n",
       "      <th>100</th>\n",
       "      <td>Miami</td>\n",
       "      <td>Miami</td>\n",
       "      <td>25.7840</td>\n",
       "      <td>-80.2101</td>\n",
       "      <td>United States</td>\n",
       "      <td>US</td>\n",
       "      <td>USA</td>\n",
       "      <td>Florida</td>\n",
       "      <td>NaN</td>\n",
       "      <td>5711945.0</td>\n",
       "      <td>1840015149</td>\n",
       "    </tr>\n",
       "    <tr>\n",
       "      <th>104</th>\n",
       "      <td>Dallas</td>\n",
       "      <td>Dallas</td>\n",
       "      <td>32.7935</td>\n",
       "      <td>-96.7667</td>\n",
       "      <td>United States</td>\n",
       "      <td>US</td>\n",
       "      <td>USA</td>\n",
       "      <td>Texas</td>\n",
       "      <td>NaN</td>\n",
       "      <td>5668165.0</td>\n",
       "      <td>1840019440</td>\n",
       "    </tr>\n",
       "  </tbody>\n",
       "</table>\n",
       "</div>"
      ],
      "text/plain": [
       "            city   city_ascii      lat       lng        country iso2 iso3  \\\n",
       "11      New York     New York  40.6943  -73.9249  United States   US  USA   \n",
       "33   Los Angeles  Los Angeles  34.1141 -118.4068  United States   US  USA   \n",
       "55       Chicago      Chicago  41.8375  -87.6866  United States   US  USA   \n",
       "100        Miami        Miami  25.7840  -80.2101  United States   US  USA   \n",
       "104       Dallas       Dallas  32.7935  -96.7667  United States   US  USA   \n",
       "\n",
       "     admin_name capital  population          id  \n",
       "11     New York     NaN  18972871.0  1840034016  \n",
       "33   California     NaN  12121244.0  1840020491  \n",
       "55     Illinois     NaN   8595181.0  1840000494  \n",
       "100     Florida     NaN   5711945.0  1840015149  \n",
       "104       Texas     NaN   5668165.0  1840019440  "
      ]
     },
     "execution_count": 17,
     "metadata": {},
     "output_type": "execute_result"
    }
   ],
   "source": [
    "pop = Path(\"worldcities/worldcities.csv\")\n",
    "\n",
    "if not file_exists(pop):\n",
    "    url = \"https://simplemaps.com/static/data/world-cities/basic/simplemaps_worldcities_basicv1.76.zip\"\n",
    "    download_file(url, \"worldcities.zip\")\n",
    "    extract_zip(\"worldcities.zip\", \"worldcities\")\n",
    "    \n",
    "df = pd.read_csv(pop)\n",
    "df = df[(df[\"iso3\"] == \"USA\") & (~df[\"admin_name\"].isin([\"Hawaii\", \"Alaska\"]))]\n",
    "df.head()"
   ]
  }
 ],
 "metadata": {
  "kernelspec": {
   "display_name": "osemosys-global",
   "language": "python",
   "name": "python3"
  },
  "language_info": {
   "codemirror_mode": {
    "name": "ipython",
    "version": 3
   },
   "file_extension": ".py",
   "mimetype": "text/x-python",
   "name": "python",
   "nbconvert_exporter": "python",
   "pygments_lexer": "ipython3",
   "version": "3.11.6"
  }
 },
 "nbformat": 4,
 "nbformat_minor": 2
}
